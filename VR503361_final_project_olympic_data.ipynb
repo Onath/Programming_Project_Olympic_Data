{
 "cells": [
  {
   "cell_type": "code",
   "execution_count": 32,
   "metadata": {},
   "outputs": [],
   "source": [
    "import pandas as pd \n",
    "import numpy as np\n",
    "import matplotlib.pyplot as plt\n",
    "from sklearn import preprocessing\n",
    "import seaborn as sns\n",
    "import functions as f\n",
    "from sklearn.linear_model import LinearRegression\n",
    "from sklearn.model_selection import train_test_split\n",
    "from sklearn.metrics import mean_absolute_error, mean_squared_error, r2_score\n",
    "from sklearn.impute import KNNImputer\n",
    "from sklearn.preprocessing import MinMaxScaler\n",
    "from sklearn.ensemble import RandomForestRegressor"
   ]
  },
  {
   "cell_type": "code",
   "execution_count": 33,
   "metadata": {},
   "outputs": [],
   "source": [
    "# better visualization of numbers\n",
    "pd.options.display.float_format = '{:,.2f}'.format "
   ]
  },
  {
   "cell_type": "markdown",
   "metadata": {},
   "source": [
    "# Diary\n",
    "\n",
    "I tried different methods to fill missing values such as linear regression and knnImputer. Because the initial idea was comparing different model accuracy then select the best one. But as i have a lot of categorical data which is difficult and no sense to transform into numerical values I discarded these ideas. Then i filled missing values using random forest reressor. "
   ]
  },
  {
   "cell_type": "markdown",
   "metadata": {},
   "source": [
    "# Functions\n"
   ]
  },
  {
   "cell_type": "markdown",
   "metadata": {},
   "source": [
    "## Linear regression\n",
    "\n",
    "I wanted to use linear regression to fill data then compare its accuracy with random forest accuracy, but having a lot of categorical data I wasn't able to do, so I discard this idea. I will impute missing values directly with random forest"
   ]
  },
  {
   "cell_type": "code",
   "execution_count": 34,
   "metadata": {},
   "outputs": [],
   "source": [
    "# def prepare_data(df, target, columns_to_exclude):\n",
    "#     features = [col for col in df.columns if col not in columns_to_exclude + [target]]\n",
    "#     # One-Hot Encoding for categorical features\n",
    "#     df_encoded = pd.get_dummies(df[features], drop_first=True)\n",
    "#     X = df[features]\n",
    "#     y = df[target]\n",
    "\n",
    "#     return X, y\n",
    "\n",
    "# def evaluate_and_plot(X_test, y_test, model, target):\n",
    "#     # make prediction\n",
    "#     y_pred = model.predict(X_test)\n",
    "\n",
    "#     # model evaluation\n",
    "#     MSE = mean_squared_error(y_test, y_pred)\n",
    "#     print(f'Mean Squared Error: {MSE}')\n",
    "#     MAE = mean_absolute_error(y_test, y_pred)\n",
    "#     print(f'MAE score is: {MAE}')\n",
    "#     RMSE = np.sqrt(MSE)\n",
    "#     print(f'RMSE score is: {RMSE}')\n",
    "#     R2_Score = r2_score(y_test, y_pred)\n",
    "#     print(f'R2_Score score is: {R2_Score}')\n",
    "\n",
    "\n",
    "# def fill_missin_value(df, model, columns_to_exclude=[]):\n",
    "    \n",
    "#     for target in df.columns:\n",
    "#         if df[target].isna().any:\n",
    "#             target_with_values = df[df[target].notna()]     # complete data to use to rain the model\n",
    "#             target_without_values =df[df[target].isna()]    # used to predict and fill the missing values\n",
    "\n",
    "#             if not target_without_values.empty:\n",
    "#                 X_complete, y_complete = prepare_data(target_with_values, target, columns_to_exclude=[])      \n",
    "#                 # X_complete = subset of the data with no missing values in target column\n",
    "#                 X_incomplete, _ = prepare_data(target_without_values, target, columns_to_exclude=[])\n",
    "#                 # we use '_' to ignore second value returned by prepare_data function bc we use only X_incomplete to make predictions\n",
    "\n",
    "#                 model.fit(X_complete, y_complete)\n",
    "#                 y_pred = model.predict(X_incomplete)\n",
    "\n",
    "#                 df.loc[df[target].isna(), target] = y_pred\n",
    "\n",
    "#     return df\n"
   ]
  },
  {
   "cell_type": "markdown",
   "metadata": {},
   "source": [
    "## Random Forest"
   ]
  },
  {
   "cell_type": "code",
   "execution_count": 35,
   "metadata": {},
   "outputs": [],
   "source": [
    "def impute_missing_values_with_random_forest(df, column_name):\n",
    "    # Select only numerical columns (excluding the target column)\n",
    "    numerical_columns = df.select_dtypes(include=['int64', 'float64']).columns.tolist()\n",
    "    if column_name in numerical_columns:\n",
    "        numerical_columns.remove(column_name)\n",
    "\n",
    "    # Exclude columns with NaN values\n",
    "    numerical_columns = [col for col in numerical_columns if not df[col].isna().any()]\n",
    "\n",
    "    # Splitting the data into two parts: one where target column is missing and one where it's not\n",
    "    df_with_target = df[df[column_name].notna()] #the target column is not NaN: These rows provide \n",
    "                        # valuable information because they contain actual data that the model can learn from\n",
    "    df_without_target = df[df[column_name].isna()] #rows where the target column is NaN and needs to be imputed \n",
    "                                # (using the information from the rows where the target column is not empty.)\n",
    "\n",
    "    # Prepare the features (X) and target (y) using only numerical columns\n",
    "    x = df_with_target[numerical_columns]\n",
    "    y = df_with_target[column_name]\n",
    "\n",
    "    # Create and train the model\n",
    "    model = RandomForestRegressor(random_state=42)\n",
    "    model.fit(x, y)\n",
    "\n",
    "    # Predicting the missing values\n",
    "    predicted_values = model.predict(df_without_target[numerical_columns])\n",
    "\n",
    "    # Fill in the missing values in the original DataFrame\n",
    "    df.loc[df[column_name].isna(), column_name] = predicted_values\n",
    "    return df"
   ]
  },
  {
   "cell_type": "markdown",
   "metadata": {},
   "source": [
    "### Plotting model results"
   ]
  },
  {
   "cell_type": "code",
   "execution_count": 36,
   "metadata": {},
   "outputs": [],
   "source": [
    "def plot_model(y_test, y_pred, target):\n",
    "    plt.figure(figsize=(10, 6))\n",
    "    plt.plot(y_test.values[:100], label='Actual')\n",
    "    plt.plot(y_pred[:100], label='Predicted')\n",
    "    plt.xlabel('Sample')\n",
    "    plt.ylabel(target)\n",
    "    plt.title(f'Actual vs Predicted {target}')\n",
    "    plt.legend()\n",
    "    plt.show()"
   ]
  },
  {
   "cell_type": "markdown",
   "metadata": {},
   "source": [
    "# Dataset Informations"
   ]
  },
  {
   "cell_type": "markdown",
   "metadata": {},
   "source": [
    "**COLUMNS**\n",
    "1. **ID:** identifier for each athlete.\n",
    "2. **NAME:**  The full name of the athlete.\n",
    "3. **SEX:** The gender of the athlete, represented as 'M' for male and 'F' for female.\n",
    "4. **AGE:** The age of the athlete at the time of the Olympics.\n",
    "5. **HEIGHT:** The height of the athlete in centimeters.\n",
    "6. **WEIGHT:** The weight of the athlete in kilograms.\n",
    "7. **TEAM:** The country the athlete represents.\n",
    "8. **NOC:** The National Olympic Committee (NOC) code for the country the athlete represents.\n",
    "9. **GAMES:** The edition of the Olympics the athlete participated in, including the year and the season (Summer or Winter).\n",
    "10. **YEAR:** The year of the Olympics.\n",
    "11. **SEASON:** The season of the Olympics, either Summer or Winter.\n",
    "12. **CITY:** The host city of the Olympics.\n",
    "13. **SPORT:** The sport the athlete competed in.\n",
    "14. **EVENT:** The specific event within the sport that the athlete competed in.\n",
    "15. **MEDAL:** The type of medal won by the athlete, if any (Gold, Silver, Bronze, or NaN if no medal was won).\n"
   ]
  },
  {
   "cell_type": "markdown",
   "metadata": {},
   "source": [
    "## IDEAS\n",
    "\n",
    "TO DO for dataset exploration: \n",
    "1. compare male and female athlets participation to the games each year\n",
    "2. correlation between age, sex, height and weight.\n",
    "3. distribution of medals per age and per sex\n",
    "4. Check if medals are distribuited correctly, in sense of: if there are years that have more medal than the maximum they can have. For this study the olympics description on kaggle. \n",
    "5. LOOK IF IT MAKES SENSE TO ASSOCIATE AN ID TO EACH COUNTRY IN *noc_region.csv* DATASET AND USE IT FOR ANALYSING THE SUCCESS OF THEM?\n",
    "6. Should I transform float data in int? not all of them, like medals etc ?"
   ]
  },
  {
   "cell_type": "markdown",
   "metadata": {},
   "source": [
    "# DATA EXPLORATION AND DATA WRANGLING"
   ]
  },
  {
   "cell_type": "code",
   "execution_count": 37,
   "metadata": {},
   "outputs": [],
   "source": [
    "olympic_df = pd.read_csv('dataset_olympic_data/dataset_olympics.csv')\n",
    "noc_region_df = pd.read_csv('dataset_olympic_data/noc_region.csv')"
   ]
  },
  {
   "cell_type": "markdown",
   "metadata": {},
   "source": [
    "## EXPLORING THE DATASET"
   ]
  },
  {
   "cell_type": "code",
   "execution_count": 38,
   "metadata": {},
   "outputs": [
    {
     "data": {
      "text/html": [
       "<div>\n",
       "<style scoped>\n",
       "    .dataframe tbody tr th:only-of-type {\n",
       "        vertical-align: middle;\n",
       "    }\n",
       "\n",
       "    .dataframe tbody tr th {\n",
       "        vertical-align: top;\n",
       "    }\n",
       "\n",
       "    .dataframe thead th {\n",
       "        text-align: right;\n",
       "    }\n",
       "</style>\n",
       "<table border=\"1\" class=\"dataframe\">\n",
       "  <thead>\n",
       "    <tr style=\"text-align: right;\">\n",
       "      <th></th>\n",
       "      <th>noc_region</th>\n",
       "      <th>reg</th>\n",
       "      <th>notes</th>\n",
       "    </tr>\n",
       "  </thead>\n",
       "  <tbody>\n",
       "    <tr>\n",
       "      <th>0</th>\n",
       "      <td>AFG</td>\n",
       "      <td>Afghanistan</td>\n",
       "      <td>NaN</td>\n",
       "    </tr>\n",
       "    <tr>\n",
       "      <th>1</th>\n",
       "      <td>AHO</td>\n",
       "      <td>Curacao</td>\n",
       "      <td>Netherlands Antilles</td>\n",
       "    </tr>\n",
       "    <tr>\n",
       "      <th>2</th>\n",
       "      <td>ALB</td>\n",
       "      <td>Albania</td>\n",
       "      <td>NaN</td>\n",
       "    </tr>\n",
       "    <tr>\n",
       "      <th>3</th>\n",
       "      <td>ALG</td>\n",
       "      <td>Algeria</td>\n",
       "      <td>NaN</td>\n",
       "    </tr>\n",
       "    <tr>\n",
       "      <th>4</th>\n",
       "      <td>AND</td>\n",
       "      <td>Andorra</td>\n",
       "      <td>NaN</td>\n",
       "    </tr>\n",
       "    <tr>\n",
       "      <th>...</th>\n",
       "      <td>...</td>\n",
       "      <td>...</td>\n",
       "      <td>...</td>\n",
       "    </tr>\n",
       "    <tr>\n",
       "      <th>225</th>\n",
       "      <td>YEM</td>\n",
       "      <td>Yemen</td>\n",
       "      <td>NaN</td>\n",
       "    </tr>\n",
       "    <tr>\n",
       "      <th>226</th>\n",
       "      <td>YMD</td>\n",
       "      <td>Yemen</td>\n",
       "      <td>South Yemen</td>\n",
       "    </tr>\n",
       "    <tr>\n",
       "      <th>227</th>\n",
       "      <td>YUG</td>\n",
       "      <td>Serbia</td>\n",
       "      <td>Yugoslavia</td>\n",
       "    </tr>\n",
       "    <tr>\n",
       "      <th>228</th>\n",
       "      <td>ZAM</td>\n",
       "      <td>Zambia</td>\n",
       "      <td>NaN</td>\n",
       "    </tr>\n",
       "    <tr>\n",
       "      <th>229</th>\n",
       "      <td>ZIM</td>\n",
       "      <td>Zimbabwe</td>\n",
       "      <td>NaN</td>\n",
       "    </tr>\n",
       "  </tbody>\n",
       "</table>\n",
       "<p>230 rows × 3 columns</p>\n",
       "</div>"
      ],
      "text/plain": [
       "    noc_region          reg                 notes\n",
       "0          AFG  Afghanistan                   NaN\n",
       "1          AHO      Curacao  Netherlands Antilles\n",
       "2          ALB      Albania                   NaN\n",
       "3          ALG      Algeria                   NaN\n",
       "4          AND      Andorra                   NaN\n",
       "..         ...          ...                   ...\n",
       "225        YEM        Yemen                   NaN\n",
       "226        YMD        Yemen           South Yemen\n",
       "227        YUG       Serbia            Yugoslavia\n",
       "228        ZAM       Zambia                   NaN\n",
       "229        ZIM     Zimbabwe                   NaN\n",
       "\n",
       "[230 rows x 3 columns]"
      ]
     },
     "execution_count": 38,
     "metadata": {},
     "output_type": "execute_result"
    }
   ],
   "source": [
    "noc_region_df"
   ]
  },
  {
   "cell_type": "code",
   "execution_count": 39,
   "metadata": {},
   "outputs": [
    {
     "data": {
      "text/plain": [
       "array([nan, 'Netherlands Antilles', 'Antigua and Barbuda', 'Australasia',\n",
       "       'Bohemia', 'Crete', 'Hong Kong', 'Individual Olympic Athletes',\n",
       "       'Virgin Islands', 'North Borneo', 'Newfoundland',\n",
       "       'Refugee Olympic Team', 'Serbia and Montenegro',\n",
       "       'Turks and Caicos Islands', 'Trinidad and Tobago', 'Tuvalu',\n",
       "       'United Arab Republic', 'Unknown', 'West Indies Federation',\n",
       "       'North Yemen', 'South Yemen', 'Yugoslavia'], dtype=object)"
      ]
     },
     "execution_count": 39,
     "metadata": {},
     "output_type": "execute_result"
    }
   ],
   "source": [
    "noc_region_df['notes'].unique()"
   ]
  },
  {
   "cell_type": "code",
   "execution_count": 40,
   "metadata": {},
   "outputs": [
    {
     "data": {
      "text/html": [
       "<div>\n",
       "<style scoped>\n",
       "    .dataframe tbody tr th:only-of-type {\n",
       "        vertical-align: middle;\n",
       "    }\n",
       "\n",
       "    .dataframe tbody tr th {\n",
       "        vertical-align: top;\n",
       "    }\n",
       "\n",
       "    .dataframe thead th {\n",
       "        text-align: right;\n",
       "    }\n",
       "</style>\n",
       "<table border=\"1\" class=\"dataframe\">\n",
       "  <thead>\n",
       "    <tr style=\"text-align: right;\">\n",
       "      <th></th>\n",
       "      <th>noc_region</th>\n",
       "      <th>reg</th>\n",
       "      <th>notes</th>\n",
       "    </tr>\n",
       "  </thead>\n",
       "  <tbody>\n",
       "    <tr>\n",
       "      <th>147</th>\n",
       "      <td>NFL</td>\n",
       "      <td>Canada</td>\n",
       "      <td>Newfoundland</td>\n",
       "    </tr>\n",
       "  </tbody>\n",
       "</table>\n",
       "</div>"
      ],
      "text/plain": [
       "    noc_region     reg         notes\n",
       "147        NFL  Canada  Newfoundland"
      ]
     },
     "execution_count": 40,
     "metadata": {},
     "output_type": "execute_result"
    }
   ],
   "source": [
    "noc_region_df[noc_region_df['notes'] == 'Newfoundland']"
   ]
  },
  {
   "cell_type": "code",
   "execution_count": 41,
   "metadata": {},
   "outputs": [
    {
     "data": {
      "text/html": [
       "<div>\n",
       "<style scoped>\n",
       "    .dataframe tbody tr th:only-of-type {\n",
       "        vertical-align: middle;\n",
       "    }\n",
       "\n",
       "    .dataframe tbody tr th {\n",
       "        vertical-align: top;\n",
       "    }\n",
       "\n",
       "    .dataframe thead th {\n",
       "        text-align: right;\n",
       "    }\n",
       "</style>\n",
       "<table border=\"1\" class=\"dataframe\">\n",
       "  <thead>\n",
       "    <tr style=\"text-align: right;\">\n",
       "      <th></th>\n",
       "      <th>ID</th>\n",
       "      <th>Name</th>\n",
       "      <th>Sex</th>\n",
       "      <th>Age</th>\n",
       "      <th>Height</th>\n",
       "      <th>Weight</th>\n",
       "      <th>Team</th>\n",
       "      <th>NOC</th>\n",
       "      <th>Games</th>\n",
       "      <th>Year</th>\n",
       "      <th>Season</th>\n",
       "      <th>City</th>\n",
       "      <th>Sport</th>\n",
       "      <th>Event</th>\n",
       "      <th>Medal</th>\n",
       "    </tr>\n",
       "  </thead>\n",
       "  <tbody>\n",
       "    <tr>\n",
       "      <th>0</th>\n",
       "      <td>1</td>\n",
       "      <td>A Dijiang</td>\n",
       "      <td>M</td>\n",
       "      <td>24.00</td>\n",
       "      <td>180.00</td>\n",
       "      <td>80.00</td>\n",
       "      <td>China</td>\n",
       "      <td>CHN</td>\n",
       "      <td>1992 Summer</td>\n",
       "      <td>1992</td>\n",
       "      <td>Summer</td>\n",
       "      <td>Barcelona</td>\n",
       "      <td>Basketball</td>\n",
       "      <td>Basketball Men's Basketball</td>\n",
       "      <td>NaN</td>\n",
       "    </tr>\n",
       "    <tr>\n",
       "      <th>1</th>\n",
       "      <td>2</td>\n",
       "      <td>A Lamusi</td>\n",
       "      <td>M</td>\n",
       "      <td>23.00</td>\n",
       "      <td>170.00</td>\n",
       "      <td>60.00</td>\n",
       "      <td>China</td>\n",
       "      <td>CHN</td>\n",
       "      <td>2012 Summer</td>\n",
       "      <td>2012</td>\n",
       "      <td>Summer</td>\n",
       "      <td>London</td>\n",
       "      <td>Judo</td>\n",
       "      <td>Judo Men's Extra-Lightweight</td>\n",
       "      <td>NaN</td>\n",
       "    </tr>\n",
       "    <tr>\n",
       "      <th>2</th>\n",
       "      <td>3</td>\n",
       "      <td>Gunnar Nielsen Aaby</td>\n",
       "      <td>M</td>\n",
       "      <td>24.00</td>\n",
       "      <td>NaN</td>\n",
       "      <td>NaN</td>\n",
       "      <td>Denmark</td>\n",
       "      <td>DEN</td>\n",
       "      <td>1920 Summer</td>\n",
       "      <td>1920</td>\n",
       "      <td>Summer</td>\n",
       "      <td>Antwerpen</td>\n",
       "      <td>Football</td>\n",
       "      <td>Football Men's Football</td>\n",
       "      <td>NaN</td>\n",
       "    </tr>\n",
       "    <tr>\n",
       "      <th>3</th>\n",
       "      <td>4</td>\n",
       "      <td>Edgar Lindenau Aabye</td>\n",
       "      <td>M</td>\n",
       "      <td>34.00</td>\n",
       "      <td>NaN</td>\n",
       "      <td>NaN</td>\n",
       "      <td>Denmark/Sweden</td>\n",
       "      <td>DEN</td>\n",
       "      <td>1900 Summer</td>\n",
       "      <td>1900</td>\n",
       "      <td>Summer</td>\n",
       "      <td>Paris</td>\n",
       "      <td>Tug-Of-War</td>\n",
       "      <td>Tug-Of-War Men's Tug-Of-War</td>\n",
       "      <td>Gold</td>\n",
       "    </tr>\n",
       "    <tr>\n",
       "      <th>4</th>\n",
       "      <td>5</td>\n",
       "      <td>Christine Jacoba Aaftink</td>\n",
       "      <td>F</td>\n",
       "      <td>21.00</td>\n",
       "      <td>185.00</td>\n",
       "      <td>82.00</td>\n",
       "      <td>Netherlands</td>\n",
       "      <td>NED</td>\n",
       "      <td>1988 Winter</td>\n",
       "      <td>1988</td>\n",
       "      <td>Winter</td>\n",
       "      <td>Calgary</td>\n",
       "      <td>Speed Skating</td>\n",
       "      <td>Speed Skating Women's 500 metres</td>\n",
       "      <td>NaN</td>\n",
       "    </tr>\n",
       "  </tbody>\n",
       "</table>\n",
       "</div>"
      ],
      "text/plain": [
       "   ID                      Name Sex   Age  Height  Weight            Team  \\\n",
       "0   1                 A Dijiang   M 24.00  180.00   80.00           China   \n",
       "1   2                  A Lamusi   M 23.00  170.00   60.00           China   \n",
       "2   3       Gunnar Nielsen Aaby   M 24.00     NaN     NaN         Denmark   \n",
       "3   4      Edgar Lindenau Aabye   M 34.00     NaN     NaN  Denmark/Sweden   \n",
       "4   5  Christine Jacoba Aaftink   F 21.00  185.00   82.00     Netherlands   \n",
       "\n",
       "   NOC        Games  Year  Season       City          Sport  \\\n",
       "0  CHN  1992 Summer  1992  Summer  Barcelona     Basketball   \n",
       "1  CHN  2012 Summer  2012  Summer     London           Judo   \n",
       "2  DEN  1920 Summer  1920  Summer  Antwerpen       Football   \n",
       "3  DEN  1900 Summer  1900  Summer      Paris     Tug-Of-War   \n",
       "4  NED  1988 Winter  1988  Winter    Calgary  Speed Skating   \n",
       "\n",
       "                              Event Medal  \n",
       "0       Basketball Men's Basketball   NaN  \n",
       "1      Judo Men's Extra-Lightweight   NaN  \n",
       "2           Football Men's Football   NaN  \n",
       "3       Tug-Of-War Men's Tug-Of-War  Gold  \n",
       "4  Speed Skating Women's 500 metres   NaN  "
      ]
     },
     "execution_count": 41,
     "metadata": {},
     "output_type": "execute_result"
    }
   ],
   "source": [
    "olympic_df.head()"
   ]
  },
  {
   "cell_type": "code",
   "execution_count": 42,
   "metadata": {},
   "outputs": [
    {
     "name": "stdout",
     "output_type": "stream",
     "text": [
      "<class 'pandas.core.frame.DataFrame'>\n",
      "RangeIndex: 70000 entries, 0 to 69999\n",
      "Data columns (total 15 columns):\n",
      " #   Column  Non-Null Count  Dtype  \n",
      "---  ------  --------------  -----  \n",
      " 0   ID      70000 non-null  int64  \n",
      " 1   Name    70000 non-null  object \n",
      " 2   Sex     70000 non-null  object \n",
      " 3   Age     67268 non-null  float64\n",
      " 4   Height  53746 non-null  float64\n",
      " 5   Weight  52899 non-null  float64\n",
      " 6   Team    70000 non-null  object \n",
      " 7   NOC     70000 non-null  object \n",
      " 8   Games   70000 non-null  object \n",
      " 9   Year    70000 non-null  int64  \n",
      " 10  Season  70000 non-null  object \n",
      " 11  City    70000 non-null  object \n",
      " 12  Sport   70000 non-null  object \n",
      " 13  Event   70000 non-null  object \n",
      " 14  Medal   9690 non-null   object \n",
      "dtypes: float64(3), int64(2), object(10)\n",
      "memory usage: 8.0+ MB\n"
     ]
    }
   ],
   "source": [
    "olympic_df.info()"
   ]
  },
  {
   "cell_type": "code",
   "execution_count": 43,
   "metadata": {},
   "outputs": [
    {
     "data": {
      "text/html": [
       "<div>\n",
       "<style scoped>\n",
       "    .dataframe tbody tr th:only-of-type {\n",
       "        vertical-align: middle;\n",
       "    }\n",
       "\n",
       "    .dataframe tbody tr th {\n",
       "        vertical-align: top;\n",
       "    }\n",
       "\n",
       "    .dataframe thead th {\n",
       "        text-align: right;\n",
       "    }\n",
       "</style>\n",
       "<table border=\"1\" class=\"dataframe\">\n",
       "  <thead>\n",
       "    <tr style=\"text-align: right;\">\n",
       "      <th></th>\n",
       "      <th>ID</th>\n",
       "      <th>Age</th>\n",
       "      <th>Height</th>\n",
       "      <th>Weight</th>\n",
       "      <th>Year</th>\n",
       "    </tr>\n",
       "  </thead>\n",
       "  <tbody>\n",
       "    <tr>\n",
       "      <th>count</th>\n",
       "      <td>70,000.00</td>\n",
       "      <td>67,268.00</td>\n",
       "      <td>53,746.00</td>\n",
       "      <td>52,899.00</td>\n",
       "      <td>70,000.00</td>\n",
       "    </tr>\n",
       "    <tr>\n",
       "      <th>mean</th>\n",
       "      <td>18,081.85</td>\n",
       "      <td>25.64</td>\n",
       "      <td>175.51</td>\n",
       "      <td>70.90</td>\n",
       "      <td>1,977.77</td>\n",
       "    </tr>\n",
       "    <tr>\n",
       "      <th>std</th>\n",
       "      <td>10,235.61</td>\n",
       "      <td>6.49</td>\n",
       "      <td>10.38</td>\n",
       "      <td>14.22</td>\n",
       "      <td>30.10</td>\n",
       "    </tr>\n",
       "    <tr>\n",
       "      <th>min</th>\n",
       "      <td>1.00</td>\n",
       "      <td>11.00</td>\n",
       "      <td>127.00</td>\n",
       "      <td>25.00</td>\n",
       "      <td>1,896.00</td>\n",
       "    </tr>\n",
       "    <tr>\n",
       "      <th>25%</th>\n",
       "      <td>9,325.75</td>\n",
       "      <td>21.00</td>\n",
       "      <td>168.00</td>\n",
       "      <td>61.00</td>\n",
       "      <td>1,960.00</td>\n",
       "    </tr>\n",
       "    <tr>\n",
       "      <th>50%</th>\n",
       "      <td>18,032.00</td>\n",
       "      <td>25.00</td>\n",
       "      <td>175.00</td>\n",
       "      <td>70.00</td>\n",
       "      <td>1,984.00</td>\n",
       "    </tr>\n",
       "    <tr>\n",
       "      <th>75%</th>\n",
       "      <td>26,978.00</td>\n",
       "      <td>28.00</td>\n",
       "      <td>183.00</td>\n",
       "      <td>79.00</td>\n",
       "      <td>2,002.00</td>\n",
       "    </tr>\n",
       "    <tr>\n",
       "      <th>max</th>\n",
       "      <td>35,658.00</td>\n",
       "      <td>88.00</td>\n",
       "      <td>223.00</td>\n",
       "      <td>214.00</td>\n",
       "      <td>2,016.00</td>\n",
       "    </tr>\n",
       "  </tbody>\n",
       "</table>\n",
       "</div>"
      ],
      "text/plain": [
       "             ID       Age    Height    Weight      Year\n",
       "count 70,000.00 67,268.00 53,746.00 52,899.00 70,000.00\n",
       "mean  18,081.85     25.64    175.51     70.90  1,977.77\n",
       "std   10,235.61      6.49     10.38     14.22     30.10\n",
       "min        1.00     11.00    127.00     25.00  1,896.00\n",
       "25%    9,325.75     21.00    168.00     61.00  1,960.00\n",
       "50%   18,032.00     25.00    175.00     70.00  1,984.00\n",
       "75%   26,978.00     28.00    183.00     79.00  2,002.00\n",
       "max   35,658.00     88.00    223.00    214.00  2,016.00"
      ]
     },
     "execution_count": 43,
     "metadata": {},
     "output_type": "execute_result"
    }
   ],
   "source": [
    "olympic_df.describe()"
   ]
  },
  {
   "cell_type": "code",
   "execution_count": 44,
   "metadata": {},
   "outputs": [
    {
     "data": {
      "text/plain": [
       "ID            0\n",
       "Name          0\n",
       "Sex           0\n",
       "Age        2732\n",
       "Height    16254\n",
       "Weight    17101\n",
       "Team          0\n",
       "NOC           0\n",
       "Games         0\n",
       "Year          0\n",
       "Season        0\n",
       "City          0\n",
       "Sport         0\n",
       "Event         0\n",
       "Medal     60310\n",
       "dtype: int64"
      ]
     },
     "execution_count": 44,
     "metadata": {},
     "output_type": "execute_result"
    }
   ],
   "source": [
    "olympic_df.isna().sum()"
   ]
  },
  {
   "cell_type": "code",
   "execution_count": 45,
   "metadata": {},
   "outputs": [
    {
     "data": {
      "text/plain": [
       "array([nan, 'Gold', 'Bronze', 'Silver'], dtype=object)"
      ]
     },
     "execution_count": 45,
     "metadata": {},
     "output_type": "execute_result"
    }
   ],
   "source": [
    "olympic_df['Medal'].unique()"
   ]
  },
  {
   "cell_type": "code",
   "execution_count": 46,
   "metadata": {},
   "outputs": [
    {
     "data": {
      "text/plain": [
       "Medal\n",
       "Gold      3292\n",
       "Silver    3190\n",
       "Bronze    3208\n",
       "Name: count, dtype: int64"
      ]
     },
     "execution_count": 46,
     "metadata": {},
     "output_type": "execute_result"
    }
   ],
   "source": [
    "medal_mask = ['Gold', 'Silver', 'Bronze']\n",
    "olympic_df['Medal'].value_counts()[medal_mask] "
   ]
  },
  {
   "cell_type": "code",
   "execution_count": 47,
   "metadata": {},
   "outputs": [],
   "source": [
    "# olympic_df.hist()"
   ]
  },
  {
   "cell_type": "code",
   "execution_count": 48,
   "metadata": {},
   "outputs": [],
   "source": [
    "# olympic_without_id = olympic_df.drop(columns='ID')\n",
    "# olympic_without_id\n",
    "# # plt.figure(figsize=(10, 6))\n",
    "# # olympic_corr = sns.heatmap(olympic_without_id.corr(), annot=True)\n",
    "# # olympic_corr.set_title('Olympic Data Correlation Matrix')"
   ]
  },
  {
   "cell_type": "markdown",
   "metadata": {},
   "source": [
    "## Data Cleaning"
   ]
  },
  {
   "cell_type": "markdown",
   "metadata": {},
   "source": [
    "COLUMNS CAN BE TRANSFORM:\n",
    "- SEX: M/F -> 0/1\n",
    "- MEDAL: NaN, Bronze, Silver, Gold -> 0, 1, 2, 3\n",
    "\n",
    "I can use two methods to encode the labels:\n",
    "1. LabelEncoder from sklearn library\n",
    "2. Doing it by hand\n",
    "\n",
    "As I have just few labels to encode, I prefer to use second method because LabelEncoder assign numbers starting from 0 and so on and in my case is not preferable a generic assignment because of the different priorty/importance of the medal types. Instead for Sex encoding it can be used LabelEncoding but for code clearity I will use one method for all my features that I want to encode."
   ]
  },
  {
   "cell_type": "code",
   "execution_count": 49,
   "metadata": {},
   "outputs": [
    {
     "data": {
      "text/plain": [
       "array([nan, 'Gold', 'Bronze', 'Silver'], dtype=object)"
      ]
     },
     "execution_count": 49,
     "metadata": {},
     "output_type": "execute_result"
    }
   ],
   "source": [
    "# col = olympic_df.columns\n",
    "olympic_df['Medal'].unique()\n",
    "# f.print_unique_values(olympic_df[col])"
   ]
  },
  {
   "cell_type": "code",
   "execution_count": 50,
   "metadata": {},
   "outputs": [],
   "source": [
    "# label_encoder = preprocessing.LabelEncoder() \n",
    "# olympic_df['Sex']= label_encoder.fit_transform(olympic_df['Sex']) "
   ]
  },
  {
   "cell_type": "code",
   "execution_count": 51,
   "metadata": {},
   "outputs": [],
   "source": [
    "replace_sex={\n",
    "    'M':0,\n",
    "    \"F\":1\n",
    "}\n",
    "olympic_df['Sex'] = olympic_df['Sex'].replace(replace_sex)\n",
    "\n",
    "replace_medal={\n",
    "    \"Bronze\":1,\n",
    "    \"Silver\":2,\n",
    "    \"Gold\":3\n",
    "}\n",
    "olympic_df['Medal'] = olympic_df['Medal'].replace(replace_medal)\n",
    "\n",
    "pd.set_option(\"future.no_silent_downcasting\", True)"
   ]
  },
  {
   "cell_type": "markdown",
   "metadata": {},
   "source": [
    "### Check duplicated"
   ]
  },
  {
   "cell_type": "code",
   "execution_count": 52,
   "metadata": {},
   "outputs": [
    {
     "name": "stdout",
     "output_type": "stream",
     "text": [
      "<class 'pandas.core.frame.DataFrame'>\n",
      "RangeIndex: 70000 entries, 0 to 69999\n",
      "Data columns (total 15 columns):\n",
      " #   Column  Non-Null Count  Dtype  \n",
      "---  ------  --------------  -----  \n",
      " 0   ID      70000 non-null  int64  \n",
      " 1   Name    70000 non-null  object \n",
      " 2   Sex     70000 non-null  object \n",
      " 3   Age     67268 non-null  float64\n",
      " 4   Height  53746 non-null  float64\n",
      " 5   Weight  52899 non-null  float64\n",
      " 6   Team    70000 non-null  object \n",
      " 7   NOC     70000 non-null  object \n",
      " 8   Games   70000 non-null  object \n",
      " 9   Year    70000 non-null  int64  \n",
      " 10  Season  70000 non-null  object \n",
      " 11  City    70000 non-null  object \n",
      " 12  Sport   70000 non-null  object \n",
      " 13  Event   70000 non-null  object \n",
      " 14  Medal   9690 non-null   object \n",
      "dtypes: float64(3), int64(2), object(10)\n",
      "memory usage: 8.0+ MB\n"
     ]
    }
   ],
   "source": [
    "olympic_df.info()"
   ]
  },
  {
   "cell_type": "code",
   "execution_count": 53,
   "metadata": {},
   "outputs": [
    {
     "name": "stdout",
     "output_type": "stream",
     "text": [
      "There are 383 duplicate rows in olympic_df based on all columns.\n"
     ]
    }
   ],
   "source": [
    "print('There are {} duplicate rows in olympic_df based on all columns.'.format(olympic_df.duplicated().sum()))\n"
   ]
  },
  {
   "cell_type": "code",
   "execution_count": 54,
   "metadata": {},
   "outputs": [],
   "source": [
    "olympic_df.drop_duplicates(keep='first', inplace=True)"
   ]
  },
  {
   "cell_type": "code",
   "execution_count": 55,
   "metadata": {},
   "outputs": [
    {
     "name": "stdout",
     "output_type": "stream",
     "text": [
      "There are 0 duplicate rows in olympic_df based on all columns.\n"
     ]
    }
   ],
   "source": [
    "print('There are {} duplicate rows in olympic_df based on all columns.'.format(olympic_df.duplicated().sum()))\n"
   ]
  },
  {
   "cell_type": "code",
   "execution_count": 56,
   "metadata": {},
   "outputs": [
    {
     "name": "stdout",
     "output_type": "stream",
     "text": [
      "<class 'pandas.core.frame.DataFrame'>\n",
      "Index: 69617 entries, 0 to 69999\n",
      "Data columns (total 15 columns):\n",
      " #   Column  Non-Null Count  Dtype  \n",
      "---  ------  --------------  -----  \n",
      " 0   ID      69617 non-null  int64  \n",
      " 1   Name    69617 non-null  object \n",
      " 2   Sex     69617 non-null  object \n",
      " 3   Age     66946 non-null  float64\n",
      " 4   Height  53741 non-null  float64\n",
      " 5   Weight  52899 non-null  float64\n",
      " 6   Team    69617 non-null  object \n",
      " 7   NOC     69617 non-null  object \n",
      " 8   Games   69617 non-null  object \n",
      " 9   Year    69617 non-null  int64  \n",
      " 10  Season  69617 non-null  object \n",
      " 11  City    69617 non-null  object \n",
      " 12  Sport   69617 non-null  object \n",
      " 13  Event   69617 non-null  object \n",
      " 14  Medal   9686 non-null   object \n",
      "dtypes: float64(3), int64(2), object(10)\n",
      "memory usage: 8.5+ MB\n"
     ]
    }
   ],
   "source": [
    "olympic_df.info()"
   ]
  },
  {
   "cell_type": "markdown",
   "metadata": {},
   "source": [
    "### Missing values"
   ]
  },
  {
   "cell_type": "markdown",
   "metadata": {},
   "source": [
    "#### Percentage of missing data"
   ]
  },
  {
   "cell_type": "code",
   "execution_count": 24,
   "metadata": {},
   "outputs": [
    {
     "name": "stdout",
     "output_type": "stream",
     "text": [
      "        Missing Values  Percentage\n",
      "ID                   0        0.00\n",
      "Name                 0        0.00\n",
      "Sex                  0        0.00\n",
      "Age               2671        3.84\n",
      "Height           15876       22.80\n",
      "Weight           16718       24.01\n",
      "Team                 0        0.00\n",
      "NOC                  0        0.00\n",
      "Games                0        0.00\n",
      "Year                 0        0.00\n",
      "Season               0        0.00\n",
      "City                 0        0.00\n",
      "Sport                0        0.00\n",
      "Event                0        0.00\n",
      "Medal            59931       86.09\n"
     ]
    }
   ],
   "source": [
    "missing_percentage = ((olympic_df.isnull().sum())/len(olympic_df))*100\n",
    "missing_data = pd.DataFrame({'Missing Values': olympic_df.isnull().sum(), 'Percentage': missing_percentage})\n",
    "print(missing_data)"
   ]
  },
  {
   "cell_type": "markdown",
   "metadata": {},
   "source": [
    "#### Medal column cleaning\n",
    "\n",
    "Filling missing values in Medal column with fillna(), because actually they are not missing values where we have NaN, but it indicates that the athlet didn't get any medal"
   ]
  },
  {
   "cell_type": "code",
   "execution_count": 25,
   "metadata": {},
   "outputs": [],
   "source": [
    "olympic_df['Medal'] = olympic_df['Medal'].fillna(value=0)"
   ]
  },
  {
   "cell_type": "code",
   "execution_count": 26,
   "metadata": {},
   "outputs": [
    {
     "data": {
      "text/html": [
       "<div>\n",
       "<style scoped>\n",
       "    .dataframe tbody tr th:only-of-type {\n",
       "        vertical-align: middle;\n",
       "    }\n",
       "\n",
       "    .dataframe tbody tr th {\n",
       "        vertical-align: top;\n",
       "    }\n",
       "\n",
       "    .dataframe thead th {\n",
       "        text-align: right;\n",
       "    }\n",
       "</style>\n",
       "<table border=\"1\" class=\"dataframe\">\n",
       "  <thead>\n",
       "    <tr style=\"text-align: right;\">\n",
       "      <th></th>\n",
       "      <th>ID</th>\n",
       "      <th>Name</th>\n",
       "      <th>Sex</th>\n",
       "      <th>Age</th>\n",
       "      <th>Height</th>\n",
       "      <th>Weight</th>\n",
       "      <th>Team</th>\n",
       "      <th>NOC</th>\n",
       "      <th>Games</th>\n",
       "      <th>Year</th>\n",
       "      <th>Season</th>\n",
       "      <th>City</th>\n",
       "      <th>Sport</th>\n",
       "      <th>Event</th>\n",
       "      <th>Medal</th>\n",
       "    </tr>\n",
       "  </thead>\n",
       "  <tbody>\n",
       "    <tr>\n",
       "      <th>0</th>\n",
       "      <td>1</td>\n",
       "      <td>A Dijiang</td>\n",
       "      <td>0</td>\n",
       "      <td>24.00</td>\n",
       "      <td>180.00</td>\n",
       "      <td>80.00</td>\n",
       "      <td>China</td>\n",
       "      <td>CHN</td>\n",
       "      <td>1992 Summer</td>\n",
       "      <td>1992</td>\n",
       "      <td>Summer</td>\n",
       "      <td>Barcelona</td>\n",
       "      <td>Basketball</td>\n",
       "      <td>Basketball Men's Basketball</td>\n",
       "      <td>0.00</td>\n",
       "    </tr>\n",
       "    <tr>\n",
       "      <th>1</th>\n",
       "      <td>2</td>\n",
       "      <td>A Lamusi</td>\n",
       "      <td>0</td>\n",
       "      <td>23.00</td>\n",
       "      <td>170.00</td>\n",
       "      <td>60.00</td>\n",
       "      <td>China</td>\n",
       "      <td>CHN</td>\n",
       "      <td>2012 Summer</td>\n",
       "      <td>2012</td>\n",
       "      <td>Summer</td>\n",
       "      <td>London</td>\n",
       "      <td>Judo</td>\n",
       "      <td>Judo Men's Extra-Lightweight</td>\n",
       "      <td>0.00</td>\n",
       "    </tr>\n",
       "    <tr>\n",
       "      <th>2</th>\n",
       "      <td>3</td>\n",
       "      <td>Gunnar Nielsen Aaby</td>\n",
       "      <td>0</td>\n",
       "      <td>24.00</td>\n",
       "      <td>NaN</td>\n",
       "      <td>NaN</td>\n",
       "      <td>Denmark</td>\n",
       "      <td>DEN</td>\n",
       "      <td>1920 Summer</td>\n",
       "      <td>1920</td>\n",
       "      <td>Summer</td>\n",
       "      <td>Antwerpen</td>\n",
       "      <td>Football</td>\n",
       "      <td>Football Men's Football</td>\n",
       "      <td>0.00</td>\n",
       "    </tr>\n",
       "    <tr>\n",
       "      <th>3</th>\n",
       "      <td>4</td>\n",
       "      <td>Edgar Lindenau Aabye</td>\n",
       "      <td>0</td>\n",
       "      <td>34.00</td>\n",
       "      <td>NaN</td>\n",
       "      <td>NaN</td>\n",
       "      <td>Denmark/Sweden</td>\n",
       "      <td>DEN</td>\n",
       "      <td>1900 Summer</td>\n",
       "      <td>1900</td>\n",
       "      <td>Summer</td>\n",
       "      <td>Paris</td>\n",
       "      <td>Tug-Of-War</td>\n",
       "      <td>Tug-Of-War Men's Tug-Of-War</td>\n",
       "      <td>3.00</td>\n",
       "    </tr>\n",
       "    <tr>\n",
       "      <th>4</th>\n",
       "      <td>5</td>\n",
       "      <td>Christine Jacoba Aaftink</td>\n",
       "      <td>1</td>\n",
       "      <td>21.00</td>\n",
       "      <td>185.00</td>\n",
       "      <td>82.00</td>\n",
       "      <td>Netherlands</td>\n",
       "      <td>NED</td>\n",
       "      <td>1988 Winter</td>\n",
       "      <td>1988</td>\n",
       "      <td>Winter</td>\n",
       "      <td>Calgary</td>\n",
       "      <td>Speed Skating</td>\n",
       "      <td>Speed Skating Women's 500 metres</td>\n",
       "      <td>0.00</td>\n",
       "    </tr>\n",
       "  </tbody>\n",
       "</table>\n",
       "</div>"
      ],
      "text/plain": [
       "   ID                      Name  Sex   Age  Height  Weight            Team  \\\n",
       "0   1                 A Dijiang    0 24.00  180.00   80.00           China   \n",
       "1   2                  A Lamusi    0 23.00  170.00   60.00           China   \n",
       "2   3       Gunnar Nielsen Aaby    0 24.00     NaN     NaN         Denmark   \n",
       "3   4      Edgar Lindenau Aabye    0 34.00     NaN     NaN  Denmark/Sweden   \n",
       "4   5  Christine Jacoba Aaftink    1 21.00  185.00   82.00     Netherlands   \n",
       "\n",
       "   NOC        Games  Year  Season       City          Sport  \\\n",
       "0  CHN  1992 Summer  1992  Summer  Barcelona     Basketball   \n",
       "1  CHN  2012 Summer  2012  Summer     London           Judo   \n",
       "2  DEN  1920 Summer  1920  Summer  Antwerpen       Football   \n",
       "3  DEN  1900 Summer  1900  Summer      Paris     Tug-Of-War   \n",
       "4  NED  1988 Winter  1988  Winter    Calgary  Speed Skating   \n",
       "\n",
       "                              Event  Medal  \n",
       "0       Basketball Men's Basketball   0.00  \n",
       "1      Judo Men's Extra-Lightweight   0.00  \n",
       "2           Football Men's Football   0.00  \n",
       "3       Tug-Of-War Men's Tug-Of-War   3.00  \n",
       "4  Speed Skating Women's 500 metres   0.00  "
      ]
     },
     "execution_count": 26,
     "metadata": {},
     "output_type": "execute_result"
    }
   ],
   "source": [
    "olympic_df.head()"
   ]
  },
  {
   "cell_type": "code",
   "execution_count": 27,
   "metadata": {},
   "outputs": [
    {
     "data": {
      "text/plain": [
       "ID            0\n",
       "Name          0\n",
       "Sex           0\n",
       "Age        2671\n",
       "Height    15876\n",
       "Weight    16718\n",
       "Team          0\n",
       "NOC           0\n",
       "Games         0\n",
       "Year          0\n",
       "Season        0\n",
       "City          0\n",
       "Sport         0\n",
       "Event         0\n",
       "Medal         0\n",
       "dtype: int64"
      ]
     },
     "execution_count": 27,
     "metadata": {},
     "output_type": "execute_result"
    }
   ],
   "source": [
    "olympic_df.isna().sum()"
   ]
  },
  {
   "cell_type": "code",
   "execution_count": 28,
   "metadata": {},
   "outputs": [
    {
     "data": {
      "text/plain": [
       "array([0., 3., 1., 2.])"
      ]
     },
     "execution_count": 28,
     "metadata": {},
     "output_type": "execute_result"
    }
   ],
   "source": [
    "olympic_df[\"Medal\"].unique()"
   ]
  },
  {
   "cell_type": "markdown",
   "metadata": {},
   "source": [
    "#### Linear Regression to impute values : not used\n",
    "\n",
    "Impute missing data with linear regression"
   ]
  },
  {
   "cell_type": "code",
   "execution_count": 29,
   "metadata": {},
   "outputs": [],
   "source": [
    "# columns_to_exclude = olympic_df[['ID']]\n",
    "# model = LinearRegression()\n",
    "\n",
    "# olympic_df_filled = fill_missin_value(olympic_df, model, columns_to_exclude)  \n",
    "         "
   ]
  },
  {
   "cell_type": "code",
   "execution_count": null,
   "metadata": {},
   "outputs": [],
   "source": [
    "\n"
   ]
  },
  {
   "cell_type": "markdown",
   "metadata": {},
   "source": [
    "#### Random Forest"
   ]
  },
  {
   "cell_type": "code",
   "execution_count": 30,
   "metadata": {},
   "outputs": [],
   "source": [
    "for column in olympic_df.columns:\n",
    "    if olympic_df[column].isna().any():\n",
    "        olympic_df = impute_missing_values_with_random_forest(olympic_df, column)"
   ]
  },
  {
   "cell_type": "code",
   "execution_count": 31,
   "metadata": {},
   "outputs": [
    {
     "name": "stdout",
     "output_type": "stream",
     "text": [
      "<class 'pandas.core.frame.DataFrame'>\n",
      "Index: 69617 entries, 0 to 69999\n",
      "Data columns (total 15 columns):\n",
      " #   Column  Non-Null Count  Dtype  \n",
      "---  ------  --------------  -----  \n",
      " 0   ID      69617 non-null  int64  \n",
      " 1   Name    69617 non-null  object \n",
      " 2   Sex     69617 non-null  int64  \n",
      " 3   Age     69617 non-null  float64\n",
      " 4   Height  69617 non-null  float64\n",
      " 5   Weight  69617 non-null  float64\n",
      " 6   Team    69617 non-null  object \n",
      " 7   NOC     69617 non-null  object \n",
      " 8   Games   69617 non-null  object \n",
      " 9   Year    69617 non-null  int64  \n",
      " 10  Season  69617 non-null  object \n",
      " 11  City    69617 non-null  object \n",
      " 12  Sport   69617 non-null  object \n",
      " 13  Event   69617 non-null  object \n",
      " 14  Medal   69617 non-null  float64\n",
      "dtypes: float64(4), int64(3), object(8)\n",
      "memory usage: 8.5+ MB\n"
     ]
    }
   ],
   "source": [
    "olympic_df.info()"
   ]
  },
  {
   "cell_type": "markdown",
   "metadata": {},
   "source": [
    "## Plots"
   ]
  },
  {
   "cell_type": "markdown",
   "metadata": {},
   "source": [
    "# MODEL "
   ]
  },
  {
   "cell_type": "code",
   "execution_count": null,
   "metadata": {},
   "outputs": [],
   "source": []
  },
  {
   "cell_type": "markdown",
   "metadata": {},
   "source": [
    "# CONCLUSION"
   ]
  },
  {
   "cell_type": "code",
   "execution_count": null,
   "metadata": {},
   "outputs": [],
   "source": []
  }
 ],
 "metadata": {
  "kernelspec": {
   "display_name": "Python 3",
   "language": "python",
   "name": "python3"
  },
  "language_info": {
   "codemirror_mode": {
    "name": "ipython",
    "version": 3
   },
   "file_extension": ".py",
   "mimetype": "text/x-python",
   "name": "python",
   "nbconvert_exporter": "python",
   "pygments_lexer": "ipython3",
   "version": "3.10.12"
  }
 },
 "nbformat": 4,
 "nbformat_minor": 2
}
