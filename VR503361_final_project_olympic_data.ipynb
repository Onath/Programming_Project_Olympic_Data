{
 "cells": [
  {
   "cell_type": "code",
   "execution_count": 49,
   "metadata": {},
   "outputs": [],
   "source": [
    "import pandas as pd \n",
    "import matplotlib.pyplot as plt\n",
    "import seaborn as sns\n",
    "import functions as f\n",
    "from sklearn.model_selection import train_test_split\n",
    "from sklearn import metrics\n",
    "from sklearn.preprocessing import MinMaxScaler\n",
    "from sklearn.preprocessing import LabelEncoder\n",
    "from sklearn.ensemble import RandomForestClassifier\n",
    "from sklearn.metrics import accuracy_score\n",
    "from sklearn.linear_model import LogisticRegression\n",
    "from xgboost import XGBClassifier\n",
    "from sklearn.metrics import classification_report\n",
    "\n",
    "\n",
    "\n",
    "import warnings\n",
    "warnings.filterwarnings(\"ignore\")"
   ]
  },
  {
   "cell_type": "code",
   "execution_count": 50,
   "metadata": {},
   "outputs": [],
   "source": [
    "# better visualization of numbers\n",
    "pd.options.display.float_format = '{:,.2f}'.format "
   ]
  },
  {
   "cell_type": "markdown",
   "metadata": {},
   "source": [
    "# DATA EXPLORATION AND DATA WRANGLING"
   ]
  },
  {
   "cell_type": "markdown",
   "metadata": {},
   "source": [
    "In this project I analyzed 2 datasets:\n",
    "- one contains information about 70,000 athletes who have participated in various Olympic Games. It includes details about their personal attributes, such as name, gender, age, height, and weight, as well as their team affiliation and the events they competed in. The dataset also records the specific games, including the year, season, and host city, along with the sport and event. Additionally, it notes the medals won by the athletes. \n",
    "- The second dataset consists of 230 entries that provide information on National Olympic Committees (NOCs) and their corresponding regions. It includes details about the regions associated with each NOC, with some entries containing additional notes.\n",
    "\n",
    "I analyzed the participation of athletes in the Olympic Games over the years, visualizing the number of male and female participants. Additionally, I compared the total medals won by male and female athletes. I also examined the age distribution of the athletes and identified the countries and athletes with the most medals. Furthermore, I analyzed the top 10 sports with the highest number of participants."
   ]
  },
  {
   "cell_type": "code",
   "execution_count": 51,
   "metadata": {},
   "outputs": [],
   "source": [
    "olympic_df = pd.read_csv('dataset_olympic_data/dataset_olympics.csv')\n",
    "noc_region_df = pd.read_csv('dataset_olympic_data/noc_region.csv')"
   ]
  },
  {
   "cell_type": "markdown",
   "metadata": {},
   "source": [
    "## EXPLORING THE DATASET"
   ]
  },
  {
   "cell_type": "code",
   "execution_count": 52,
   "metadata": {},
   "outputs": [
    {
     "data": {
      "text/html": [
       "<div>\n",
       "<style scoped>\n",
       "    .dataframe tbody tr th:only-of-type {\n",
       "        vertical-align: middle;\n",
       "    }\n",
       "\n",
       "    .dataframe tbody tr th {\n",
       "        vertical-align: top;\n",
       "    }\n",
       "\n",
       "    .dataframe thead th {\n",
       "        text-align: right;\n",
       "    }\n",
       "</style>\n",
       "<table border=\"1\" class=\"dataframe\">\n",
       "  <thead>\n",
       "    <tr style=\"text-align: right;\">\n",
       "      <th></th>\n",
       "      <th>noc_region</th>\n",
       "      <th>reg</th>\n",
       "      <th>notes</th>\n",
       "    </tr>\n",
       "  </thead>\n",
       "  <tbody>\n",
       "    <tr>\n",
       "      <th>0</th>\n",
       "      <td>AFG</td>\n",
       "      <td>Afghanistan</td>\n",
       "      <td>NaN</td>\n",
       "    </tr>\n",
       "    <tr>\n",
       "      <th>1</th>\n",
       "      <td>AHO</td>\n",
       "      <td>Curacao</td>\n",
       "      <td>Netherlands Antilles</td>\n",
       "    </tr>\n",
       "    <tr>\n",
       "      <th>2</th>\n",
       "      <td>ALB</td>\n",
       "      <td>Albania</td>\n",
       "      <td>NaN</td>\n",
       "    </tr>\n",
       "    <tr>\n",
       "      <th>3</th>\n",
       "      <td>ALG</td>\n",
       "      <td>Algeria</td>\n",
       "      <td>NaN</td>\n",
       "    </tr>\n",
       "    <tr>\n",
       "      <th>4</th>\n",
       "      <td>AND</td>\n",
       "      <td>Andorra</td>\n",
       "      <td>NaN</td>\n",
       "    </tr>\n",
       "    <tr>\n",
       "      <th>...</th>\n",
       "      <td>...</td>\n",
       "      <td>...</td>\n",
       "      <td>...</td>\n",
       "    </tr>\n",
       "    <tr>\n",
       "      <th>225</th>\n",
       "      <td>YEM</td>\n",
       "      <td>Yemen</td>\n",
       "      <td>NaN</td>\n",
       "    </tr>\n",
       "    <tr>\n",
       "      <th>226</th>\n",
       "      <td>YMD</td>\n",
       "      <td>Yemen</td>\n",
       "      <td>South Yemen</td>\n",
       "    </tr>\n",
       "    <tr>\n",
       "      <th>227</th>\n",
       "      <td>YUG</td>\n",
       "      <td>Serbia</td>\n",
       "      <td>Yugoslavia</td>\n",
       "    </tr>\n",
       "    <tr>\n",
       "      <th>228</th>\n",
       "      <td>ZAM</td>\n",
       "      <td>Zambia</td>\n",
       "      <td>NaN</td>\n",
       "    </tr>\n",
       "    <tr>\n",
       "      <th>229</th>\n",
       "      <td>ZIM</td>\n",
       "      <td>Zimbabwe</td>\n",
       "      <td>NaN</td>\n",
       "    </tr>\n",
       "  </tbody>\n",
       "</table>\n",
       "<p>230 rows × 3 columns</p>\n",
       "</div>"
      ],
      "text/plain": [
       "    noc_region          reg                 notes\n",
       "0          AFG  Afghanistan                   NaN\n",
       "1          AHO      Curacao  Netherlands Antilles\n",
       "2          ALB      Albania                   NaN\n",
       "3          ALG      Algeria                   NaN\n",
       "4          AND      Andorra                   NaN\n",
       "..         ...          ...                   ...\n",
       "225        YEM        Yemen                   NaN\n",
       "226        YMD        Yemen           South Yemen\n",
       "227        YUG       Serbia            Yugoslavia\n",
       "228        ZAM       Zambia                   NaN\n",
       "229        ZIM     Zimbabwe                   NaN\n",
       "\n",
       "[230 rows x 3 columns]"
      ]
     },
     "execution_count": 52,
     "metadata": {},
     "output_type": "execute_result"
    }
   ],
   "source": [
    "noc_region_df"
   ]
  },
  {
   "cell_type": "code",
   "execution_count": 53,
   "metadata": {},
   "outputs": [
    {
     "data": {
      "text/plain": [
       "array([nan, 'Netherlands Antilles', 'Antigua and Barbuda', 'Australasia',\n",
       "       'Bohemia', 'Crete', 'Hong Kong', 'Individual Olympic Athletes',\n",
       "       'Virgin Islands', 'North Borneo', 'Newfoundland',\n",
       "       'Refugee Olympic Team', 'Serbia and Montenegro',\n",
       "       'Turks and Caicos Islands', 'Trinidad and Tobago', 'Tuvalu',\n",
       "       'United Arab Republic', 'Unknown', 'West Indies Federation',\n",
       "       'North Yemen', 'South Yemen', 'Yugoslavia'], dtype=object)"
      ]
     },
     "execution_count": 53,
     "metadata": {},
     "output_type": "execute_result"
    }
   ],
   "source": [
    "noc_region_df['notes'].unique()\n"
   ]
  },
  {
   "cell_type": "code",
   "execution_count": 54,
   "metadata": {},
   "outputs": [
    {
     "data": {
      "text/html": [
       "<div>\n",
       "<style scoped>\n",
       "    .dataframe tbody tr th:only-of-type {\n",
       "        vertical-align: middle;\n",
       "    }\n",
       "\n",
       "    .dataframe tbody tr th {\n",
       "        vertical-align: top;\n",
       "    }\n",
       "\n",
       "    .dataframe thead th {\n",
       "        text-align: right;\n",
       "    }\n",
       "</style>\n",
       "<table border=\"1\" class=\"dataframe\">\n",
       "  <thead>\n",
       "    <tr style=\"text-align: right;\">\n",
       "      <th></th>\n",
       "      <th>ID</th>\n",
       "      <th>Name</th>\n",
       "      <th>Sex</th>\n",
       "      <th>Age</th>\n",
       "      <th>Height</th>\n",
       "      <th>Weight</th>\n",
       "      <th>Team</th>\n",
       "      <th>NOC</th>\n",
       "      <th>Games</th>\n",
       "      <th>Year</th>\n",
       "      <th>Season</th>\n",
       "      <th>City</th>\n",
       "      <th>Sport</th>\n",
       "      <th>Event</th>\n",
       "      <th>Medal</th>\n",
       "    </tr>\n",
       "  </thead>\n",
       "  <tbody>\n",
       "    <tr>\n",
       "      <th>0</th>\n",
       "      <td>1</td>\n",
       "      <td>A Dijiang</td>\n",
       "      <td>M</td>\n",
       "      <td>24.00</td>\n",
       "      <td>180.00</td>\n",
       "      <td>80.00</td>\n",
       "      <td>China</td>\n",
       "      <td>CHN</td>\n",
       "      <td>1992 Summer</td>\n",
       "      <td>1992</td>\n",
       "      <td>Summer</td>\n",
       "      <td>Barcelona</td>\n",
       "      <td>Basketball</td>\n",
       "      <td>Basketball Men's Basketball</td>\n",
       "      <td>NaN</td>\n",
       "    </tr>\n",
       "    <tr>\n",
       "      <th>1</th>\n",
       "      <td>2</td>\n",
       "      <td>A Lamusi</td>\n",
       "      <td>M</td>\n",
       "      <td>23.00</td>\n",
       "      <td>170.00</td>\n",
       "      <td>60.00</td>\n",
       "      <td>China</td>\n",
       "      <td>CHN</td>\n",
       "      <td>2012 Summer</td>\n",
       "      <td>2012</td>\n",
       "      <td>Summer</td>\n",
       "      <td>London</td>\n",
       "      <td>Judo</td>\n",
       "      <td>Judo Men's Extra-Lightweight</td>\n",
       "      <td>NaN</td>\n",
       "    </tr>\n",
       "    <tr>\n",
       "      <th>2</th>\n",
       "      <td>3</td>\n",
       "      <td>Gunnar Nielsen Aaby</td>\n",
       "      <td>M</td>\n",
       "      <td>24.00</td>\n",
       "      <td>NaN</td>\n",
       "      <td>NaN</td>\n",
       "      <td>Denmark</td>\n",
       "      <td>DEN</td>\n",
       "      <td>1920 Summer</td>\n",
       "      <td>1920</td>\n",
       "      <td>Summer</td>\n",
       "      <td>Antwerpen</td>\n",
       "      <td>Football</td>\n",
       "      <td>Football Men's Football</td>\n",
       "      <td>NaN</td>\n",
       "    </tr>\n",
       "    <tr>\n",
       "      <th>3</th>\n",
       "      <td>4</td>\n",
       "      <td>Edgar Lindenau Aabye</td>\n",
       "      <td>M</td>\n",
       "      <td>34.00</td>\n",
       "      <td>NaN</td>\n",
       "      <td>NaN</td>\n",
       "      <td>Denmark/Sweden</td>\n",
       "      <td>DEN</td>\n",
       "      <td>1900 Summer</td>\n",
       "      <td>1900</td>\n",
       "      <td>Summer</td>\n",
       "      <td>Paris</td>\n",
       "      <td>Tug-Of-War</td>\n",
       "      <td>Tug-Of-War Men's Tug-Of-War</td>\n",
       "      <td>Gold</td>\n",
       "    </tr>\n",
       "    <tr>\n",
       "      <th>4</th>\n",
       "      <td>5</td>\n",
       "      <td>Christine Jacoba Aaftink</td>\n",
       "      <td>F</td>\n",
       "      <td>21.00</td>\n",
       "      <td>185.00</td>\n",
       "      <td>82.00</td>\n",
       "      <td>Netherlands</td>\n",
       "      <td>NED</td>\n",
       "      <td>1988 Winter</td>\n",
       "      <td>1988</td>\n",
       "      <td>Winter</td>\n",
       "      <td>Calgary</td>\n",
       "      <td>Speed Skating</td>\n",
       "      <td>Speed Skating Women's 500 metres</td>\n",
       "      <td>NaN</td>\n",
       "    </tr>\n",
       "  </tbody>\n",
       "</table>\n",
       "</div>"
      ],
      "text/plain": [
       "   ID                      Name Sex   Age  Height  Weight            Team  \\\n",
       "0   1                 A Dijiang   M 24.00  180.00   80.00           China   \n",
       "1   2                  A Lamusi   M 23.00  170.00   60.00           China   \n",
       "2   3       Gunnar Nielsen Aaby   M 24.00     NaN     NaN         Denmark   \n",
       "3   4      Edgar Lindenau Aabye   M 34.00     NaN     NaN  Denmark/Sweden   \n",
       "4   5  Christine Jacoba Aaftink   F 21.00  185.00   82.00     Netherlands   \n",
       "\n",
       "   NOC        Games  Year  Season       City          Sport  \\\n",
       "0  CHN  1992 Summer  1992  Summer  Barcelona     Basketball   \n",
       "1  CHN  2012 Summer  2012  Summer     London           Judo   \n",
       "2  DEN  1920 Summer  1920  Summer  Antwerpen       Football   \n",
       "3  DEN  1900 Summer  1900  Summer      Paris     Tug-Of-War   \n",
       "4  NED  1988 Winter  1988  Winter    Calgary  Speed Skating   \n",
       "\n",
       "                              Event Medal  \n",
       "0       Basketball Men's Basketball   NaN  \n",
       "1      Judo Men's Extra-Lightweight   NaN  \n",
       "2           Football Men's Football   NaN  \n",
       "3       Tug-Of-War Men's Tug-Of-War  Gold  \n",
       "4  Speed Skating Women's 500 metres   NaN  "
      ]
     },
     "execution_count": 54,
     "metadata": {},
     "output_type": "execute_result"
    }
   ],
   "source": [
    "olympic_df.head()"
   ]
  },
  {
   "cell_type": "code",
   "execution_count": 55,
   "metadata": {},
   "outputs": [],
   "source": [
    "# olympic_df.tail()"
   ]
  },
  {
   "cell_type": "code",
   "execution_count": 56,
   "metadata": {},
   "outputs": [
    {
     "name": "stdout",
     "output_type": "stream",
     "text": [
      "<class 'pandas.core.frame.DataFrame'>\n",
      "RangeIndex: 70000 entries, 0 to 69999\n",
      "Data columns (total 15 columns):\n",
      " #   Column  Non-Null Count  Dtype  \n",
      "---  ------  --------------  -----  \n",
      " 0   ID      70000 non-null  int64  \n",
      " 1   Name    70000 non-null  object \n",
      " 2   Sex     70000 non-null  object \n",
      " 3   Age     67268 non-null  float64\n",
      " 4   Height  53746 non-null  float64\n",
      " 5   Weight  52899 non-null  float64\n",
      " 6   Team    70000 non-null  object \n",
      " 7   NOC     70000 non-null  object \n",
      " 8   Games   70000 non-null  object \n",
      " 9   Year    70000 non-null  int64  \n",
      " 10  Season  70000 non-null  object \n",
      " 11  City    70000 non-null  object \n",
      " 12  Sport   70000 non-null  object \n",
      " 13  Event   70000 non-null  object \n",
      " 14  Medal   9690 non-null   object \n",
      "dtypes: float64(3), int64(2), object(10)\n",
      "memory usage: 8.0+ MB\n"
     ]
    }
   ],
   "source": [
    "olympic_df.info()"
   ]
  },
  {
   "cell_type": "code",
   "execution_count": 57,
   "metadata": {},
   "outputs": [
    {
     "data": {
      "text/html": [
       "<div>\n",
       "<style scoped>\n",
       "    .dataframe tbody tr th:only-of-type {\n",
       "        vertical-align: middle;\n",
       "    }\n",
       "\n",
       "    .dataframe tbody tr th {\n",
       "        vertical-align: top;\n",
       "    }\n",
       "\n",
       "    .dataframe thead th {\n",
       "        text-align: right;\n",
       "    }\n",
       "</style>\n",
       "<table border=\"1\" class=\"dataframe\">\n",
       "  <thead>\n",
       "    <tr style=\"text-align: right;\">\n",
       "      <th></th>\n",
       "      <th>ID</th>\n",
       "      <th>Age</th>\n",
       "      <th>Height</th>\n",
       "      <th>Weight</th>\n",
       "      <th>Year</th>\n",
       "    </tr>\n",
       "  </thead>\n",
       "  <tbody>\n",
       "    <tr>\n",
       "      <th>count</th>\n",
       "      <td>70,000.00</td>\n",
       "      <td>67,268.00</td>\n",
       "      <td>53,746.00</td>\n",
       "      <td>52,899.00</td>\n",
       "      <td>70,000.00</td>\n",
       "    </tr>\n",
       "    <tr>\n",
       "      <th>mean</th>\n",
       "      <td>18,081.85</td>\n",
       "      <td>25.64</td>\n",
       "      <td>175.51</td>\n",
       "      <td>70.90</td>\n",
       "      <td>1,977.77</td>\n",
       "    </tr>\n",
       "    <tr>\n",
       "      <th>std</th>\n",
       "      <td>10,235.61</td>\n",
       "      <td>6.49</td>\n",
       "      <td>10.38</td>\n",
       "      <td>14.22</td>\n",
       "      <td>30.10</td>\n",
       "    </tr>\n",
       "    <tr>\n",
       "      <th>min</th>\n",
       "      <td>1.00</td>\n",
       "      <td>11.00</td>\n",
       "      <td>127.00</td>\n",
       "      <td>25.00</td>\n",
       "      <td>1,896.00</td>\n",
       "    </tr>\n",
       "    <tr>\n",
       "      <th>25%</th>\n",
       "      <td>9,325.75</td>\n",
       "      <td>21.00</td>\n",
       "      <td>168.00</td>\n",
       "      <td>61.00</td>\n",
       "      <td>1,960.00</td>\n",
       "    </tr>\n",
       "    <tr>\n",
       "      <th>50%</th>\n",
       "      <td>18,032.00</td>\n",
       "      <td>25.00</td>\n",
       "      <td>175.00</td>\n",
       "      <td>70.00</td>\n",
       "      <td>1,984.00</td>\n",
       "    </tr>\n",
       "    <tr>\n",
       "      <th>75%</th>\n",
       "      <td>26,978.00</td>\n",
       "      <td>28.00</td>\n",
       "      <td>183.00</td>\n",
       "      <td>79.00</td>\n",
       "      <td>2,002.00</td>\n",
       "    </tr>\n",
       "    <tr>\n",
       "      <th>max</th>\n",
       "      <td>35,658.00</td>\n",
       "      <td>88.00</td>\n",
       "      <td>223.00</td>\n",
       "      <td>214.00</td>\n",
       "      <td>2,016.00</td>\n",
       "    </tr>\n",
       "  </tbody>\n",
       "</table>\n",
       "</div>"
      ],
      "text/plain": [
       "             ID       Age    Height    Weight      Year\n",
       "count 70,000.00 67,268.00 53,746.00 52,899.00 70,000.00\n",
       "mean  18,081.85     25.64    175.51     70.90  1,977.77\n",
       "std   10,235.61      6.49     10.38     14.22     30.10\n",
       "min        1.00     11.00    127.00     25.00  1,896.00\n",
       "25%    9,325.75     21.00    168.00     61.00  1,960.00\n",
       "50%   18,032.00     25.00    175.00     70.00  1,984.00\n",
       "75%   26,978.00     28.00    183.00     79.00  2,002.00\n",
       "max   35,658.00     88.00    223.00    214.00  2,016.00"
      ]
     },
     "execution_count": 57,
     "metadata": {},
     "output_type": "execute_result"
    }
   ],
   "source": [
    "olympic_df.describe()"
   ]
  },
  {
   "cell_type": "code",
   "execution_count": 58,
   "metadata": {},
   "outputs": [
    {
     "data": {
      "text/plain": [
       "ID            0\n",
       "Name          0\n",
       "Sex           0\n",
       "Age        2732\n",
       "Height    16254\n",
       "Weight    17101\n",
       "Team          0\n",
       "NOC           0\n",
       "Games         0\n",
       "Year          0\n",
       "Season        0\n",
       "City          0\n",
       "Sport         0\n",
       "Event         0\n",
       "Medal     60310\n",
       "dtype: int64"
      ]
     },
     "execution_count": 58,
     "metadata": {},
     "output_type": "execute_result"
    }
   ],
   "source": [
    "olympic_df.isna().sum()"
   ]
  },
  {
   "cell_type": "code",
   "execution_count": 59,
   "metadata": {},
   "outputs": [
    {
     "data": {
      "text/plain": [
       "array([nan, 'Gold', 'Bronze', 'Silver'], dtype=object)"
      ]
     },
     "execution_count": 59,
     "metadata": {},
     "output_type": "execute_result"
    }
   ],
   "source": [
    "olympic_df['Medal'].unique()"
   ]
  },
  {
   "cell_type": "code",
   "execution_count": 60,
   "metadata": {},
   "outputs": [
    {
     "data": {
      "text/plain": [
       "ID        35658\n",
       "Name      35556\n",
       "Sex           2\n",
       "Age          68\n",
       "Height       87\n",
       "Weight      173\n",
       "Team        827\n",
       "NOC         226\n",
       "Games        51\n",
       "Year         35\n",
       "Season        2\n",
       "City         42\n",
       "Sport        65\n",
       "Event       744\n",
       "Medal         3\n",
       "dtype: int64"
      ]
     },
     "execution_count": 60,
     "metadata": {},
     "output_type": "execute_result"
    }
   ],
   "source": [
    "olympic_df.nunique()"
   ]
  },
  {
   "cell_type": "code",
   "execution_count": 61,
   "metadata": {},
   "outputs": [
    {
     "data": {
      "text/plain": [
       "Medal\n",
       "Gold      3292\n",
       "Silver    3190\n",
       "Bronze    3208\n",
       "Name: count, dtype: int64"
      ]
     },
     "execution_count": 61,
     "metadata": {},
     "output_type": "execute_result"
    }
   ],
   "source": [
    "medal_mask = ['Gold', 'Silver', 'Bronze']\n",
    "olympic_df['Medal'].value_counts()[medal_mask] "
   ]
  },
  {
   "cell_type": "markdown",
   "metadata": {},
   "source": [
    "### Histogram"
   ]
  },
  {
   "cell_type": "markdown",
   "metadata": {},
   "source": [
    "From the histogram below we can see that:\n",
    "\n",
    "- The majority of the athletes age is between ~18 and ~25\n",
    "- Most athletes are between 160cm and 190cm \n",
    "- Most athletes weigh between 50 and 100 and the peak is  around 175\n",
    "- Participation to the olympic games has increased over time. "
   ]
  },
  {
   "cell_type": "code",
   "execution_count": 62,
   "metadata": {},
   "outputs": [
    {
     "data": {
      "text/plain": [
       "array([[<AxesSubplot:title={'center':'Age'}>,\n",
       "        <AxesSubplot:title={'center':'Height'}>],\n",
       "       [<AxesSubplot:title={'center':'Weight'}>,\n",
       "        <AxesSubplot:title={'center':'Year'}>]], dtype=object)"
      ]
     },
     "execution_count": 62,
     "metadata": {},
     "output_type": "execute_result"
    },
    {
     "data": {
      "image/png": "[encoded data removed]",
      "text/plain": [
       "<Figure size 1400x1000 with 4 Axes>"
      ]
     },
     "metadata": {},
     "output_type": "display_data"
    }
   ],
   "source": [
    "olympic_df.drop(columns='ID').hist(figsize=(14,10))"
   ]
  },
  {
   "cell_type": "code",
   "execution_count": 63,
   "metadata": {},
   "outputs": [
    {
     "data": {
      "text/plain": [
       "ID            0\n",
       "Name          0\n",
       "Sex           0\n",
       "Age        2732\n",
       "Height    16254\n",
       "Weight    17101\n",
       "Team          0\n",
       "NOC           0\n",
       "Games         0\n",
       "Year          0\n",
       "Season        0\n",
       "City          0\n",
       "Sport         0\n",
       "Event         0\n",
       "Medal     60310\n",
       "dtype: int64"
      ]
     },
     "execution_count": 63,
     "metadata": {},
     "output_type": "execute_result"
    }
   ],
   "source": [
    "olympic_df.isnull().sum()"
   ]
  },
  {
   "cell_type": "markdown",
   "metadata": {},
   "source": [
    "### Merge NOC dataset with Olympic dataset\n"
   ]
  },
  {
   "cell_type": "markdown",
   "metadata": {},
   "source": [
    "\n",
    "For convenience, I merged the two datasets. Although the *noc_region.csv* file does not contain information directly useful for future analysis, I included the region column to easily identify the corresponding country for each NOC code.<br>\n",
    "Additionally, I renamed the *noc_region* column to NOC to facilitate merging the datasets on this common column.<br>\n",
    "In the *noc_region.csv* file, there is a column named notes that provides additional information about countries. However, this information is not relevant to our analysis, and the column contains many missing values that we cannot fill. Therefore, I will drop the notes column from dataset. \n",
    "\n"
   ]
  },
  {
   "cell_type": "markdown",
   "metadata": {},
   "source": [
    "#### Clean NOC dataset"
   ]
  },
  {
   "cell_type": "code",
   "execution_count": 64,
   "metadata": {},
   "outputs": [
    {
     "data": {
      "text/html": [
       "<div>\n",
       "<style scoped>\n",
       "    .dataframe tbody tr th:only-of-type {\n",
       "        vertical-align: middle;\n",
       "    }\n",
       "\n",
       "    .dataframe tbody tr th {\n",
       "        vertical-align: top;\n",
       "    }\n",
       "\n",
       "    .dataframe thead th {\n",
       "        text-align: right;\n",
       "    }\n",
       "</style>\n",
       "<table border=\"1\" class=\"dataframe\">\n",
       "  <thead>\n",
       "    <tr style=\"text-align: right;\">\n",
       "      <th></th>\n",
       "      <th>noc_region</th>\n",
       "      <th>reg</th>\n",
       "      <th>notes</th>\n",
       "    </tr>\n",
       "  </thead>\n",
       "  <tbody>\n",
       "    <tr>\n",
       "      <th>168</th>\n",
       "      <td>ROT</td>\n",
       "      <td>NaN</td>\n",
       "      <td>Refugee Olympic Team</td>\n",
       "    </tr>\n",
       "    <tr>\n",
       "      <th>208</th>\n",
       "      <td>TUV</td>\n",
       "      <td>NaN</td>\n",
       "      <td>Tuvalu</td>\n",
       "    </tr>\n",
       "    <tr>\n",
       "      <th>213</th>\n",
       "      <td>UNK</td>\n",
       "      <td>NaN</td>\n",
       "      <td>Unknown</td>\n",
       "    </tr>\n",
       "  </tbody>\n",
       "</table>\n",
       "</div>"
      ],
      "text/plain": [
       "    noc_region  reg                 notes\n",
       "168        ROT  NaN  Refugee Olympic Team\n",
       "208        TUV  NaN                Tuvalu\n",
       "213        UNK  NaN               Unknown"
      ]
     },
     "execution_count": 64,
     "metadata": {},
     "output_type": "execute_result"
    }
   ],
   "source": [
    "noc_region_df[noc_region_df['reg'].isnull()]"
   ]
  },
  {
   "cell_type": "code",
   "execution_count": 65,
   "metadata": {},
   "outputs": [],
   "source": [
    "noc_region_df.rename(columns={'noc_region' : 'NOC'}, inplace=True)"
   ]
  },
  {
   "cell_type": "code",
   "execution_count": 66,
   "metadata": {},
   "outputs": [],
   "source": [
    "olympic_df = olympic_df.merge(noc_region_df, on='NOC')"
   ]
  },
  {
   "cell_type": "code",
   "execution_count": 67,
   "metadata": {},
   "outputs": [
    {
     "data": {
      "text/plain": [
       "array([nan, 'United Arab Republic', 'North Yemen', 'Virgin Islands',\n",
       "       'Turks and Caicos Islands', 'Trinidad and Tobago',\n",
       "       'Netherlands Antilles', 'South Yemen', 'Australasia',\n",
       "       'Serbia and Montenegro', 'Individual Olympic Athletes',\n",
       "       'Yugoslavia', 'Refugee Olympic Team', 'Crete',\n",
       "       'Antigua and Barbuda', 'Hong Kong', 'Bohemia',\n",
       "       'West Indies Federation', 'North Borneo', 'Unknown', 'Tuvalu'],\n",
       "      dtype=object)"
      ]
     },
     "execution_count": 67,
     "metadata": {},
     "output_type": "execute_result"
    }
   ],
   "source": [
    "olympic_df['notes'].unique()"
   ]
  },
  {
   "cell_type": "markdown",
   "metadata": {},
   "source": [
    "Drop notes column. "
   ]
  },
  {
   "cell_type": "code",
   "execution_count": 68,
   "metadata": {},
   "outputs": [],
   "source": [
    "olympic_df = olympic_df.drop(columns=['notes'])"
   ]
  },
  {
   "cell_type": "code",
   "execution_count": 69,
   "metadata": {},
   "outputs": [
    {
     "name": "stdout",
     "output_type": "stream",
     "text": [
      "<class 'pandas.core.frame.DataFrame'>\n",
      "RangeIndex: 69945 entries, 0 to 69944\n",
      "Data columns (total 16 columns):\n",
      " #   Column  Non-Null Count  Dtype  \n",
      "---  ------  --------------  -----  \n",
      " 0   ID      69945 non-null  int64  \n",
      " 1   Name    69945 non-null  object \n",
      " 2   Sex     69945 non-null  object \n",
      " 3   Age     67215 non-null  float64\n",
      " 4   Height  53706 non-null  float64\n",
      " 5   Weight  52858 non-null  float64\n",
      " 6   Team    69945 non-null  object \n",
      " 7   NOC     69945 non-null  object \n",
      " 8   Games   69945 non-null  object \n",
      " 9   Year    69945 non-null  int64  \n",
      " 10  Season  69945 non-null  object \n",
      " 11  City    69945 non-null  object \n",
      " 12  Sport   69945 non-null  object \n",
      " 13  Event   69945 non-null  object \n",
      " 14  Medal   9687 non-null   object \n",
      " 15  reg     69937 non-null  object \n",
      "dtypes: float64(3), int64(2), object(11)\n",
      "memory usage: 8.5+ MB\n"
     ]
    }
   ],
   "source": [
    "olympic_df.info()"
   ]
  },
  {
   "cell_type": "markdown",
   "metadata": {},
   "source": [
    "## DATA CLEANING, HANDLING MISSING VALUES"
   ]
  },
  {
   "cell_type": "markdown",
   "metadata": {},
   "source": [
    "After merging the datasets, I will now work with *dataset_olympics.csv*, which I called *olympic_df*.<br>\n",
    "First, I checked for and removed any duplicate values. <br>\n",
    "Before modifying the *medal* column, I created a binary column called *Athlete_won_medal*. This column will be used in the prediction model I will develop later. It contains '1' if the athlete won a medal (regardless of whether it is Gold, Silver, or Bronze) and '0' if the athlete did not win a medal. In the *medal* column NaN values indicate that the athlete did not win a medal, so I will replace these NaN values with the string \"No medal\" using pandas' fillna() method.<br>\n",
    "Additionally, I dropped rows with NaN values in the *region* column, as it is unclear which country or region they belong to."
   ]
  },
  {
   "cell_type": "markdown",
   "metadata": {},
   "source": [
    "### Check and clean duplicates:"
   ]
  },
  {
   "cell_type": "code",
   "execution_count": 70,
   "metadata": {},
   "outputs": [
    {
     "name": "stdout",
     "output_type": "stream",
     "text": [
      "There are 383 duplicate rows in olympic_df based on all columns.\n"
     ]
    }
   ],
   "source": [
    "print('There are {} duplicate rows in olympic_df based on all columns.'.format(olympic_df.duplicated().sum()))"
   ]
  },
  {
   "cell_type": "code",
   "execution_count": 71,
   "metadata": {},
   "outputs": [],
   "source": [
    "olympic_df.drop_duplicates(keep='first', inplace=True)"
   ]
  },
  {
   "cell_type": "code",
   "execution_count": 72,
   "metadata": {},
   "outputs": [
    {
     "name": "stdout",
     "output_type": "stream",
     "text": [
      "There are 0 duplicate rows in olympic_df based on all columns.\n"
     ]
    }
   ],
   "source": [
    "print('There are {} duplicate rows in olympic_df based on all columns.'.format(olympic_df.duplicated().sum()))"
   ]
  },
  {
   "cell_type": "markdown",
   "metadata": {},
   "source": [
    "### Missing Values"
   ]
  },
  {
   "cell_type": "markdown",
   "metadata": {},
   "source": [
    "Percentage of missing data:"
   ]
  },
  {
   "cell_type": "code",
   "execution_count": 73,
   "metadata": {},
   "outputs": [],
   "source": [
    "# missing_percentage = ((olympic_df.isnull().sum())/len(olympic_df))*100\n",
    "# missing_data = pd.DataFrame({'Missing Values': olympic_df.isnull().sum(), 'Percentage': missing_percentage})\n",
    "# print(missing_data)"
   ]
  },
  {
   "cell_type": "markdown",
   "metadata": {},
   "source": [
    "**Medal column cleaning**"
   ]
  },
  {
   "cell_type": "code",
   "execution_count": 74,
   "metadata": {},
   "outputs": [
    {
     "data": {
      "text/html": [
       "<div>\n",
       "<style scoped>\n",
       "    .dataframe tbody tr th:only-of-type {\n",
       "        vertical-align: middle;\n",
       "    }\n",
       "\n",
       "    .dataframe tbody tr th {\n",
       "        vertical-align: top;\n",
       "    }\n",
       "\n",
       "    .dataframe thead th {\n",
       "        text-align: right;\n",
       "    }\n",
       "</style>\n",
       "<table border=\"1\" class=\"dataframe\">\n",
       "  <thead>\n",
       "    <tr style=\"text-align: right;\">\n",
       "      <th></th>\n",
       "      <th>ID</th>\n",
       "      <th>Name</th>\n",
       "      <th>Sex</th>\n",
       "      <th>Age</th>\n",
       "      <th>Height</th>\n",
       "      <th>Weight</th>\n",
       "      <th>Team</th>\n",
       "      <th>NOC</th>\n",
       "      <th>Games</th>\n",
       "      <th>Year</th>\n",
       "      <th>Season</th>\n",
       "      <th>City</th>\n",
       "      <th>Sport</th>\n",
       "      <th>Event</th>\n",
       "      <th>Medal</th>\n",
       "      <th>reg</th>\n",
       "    </tr>\n",
       "  </thead>\n",
       "  <tbody>\n",
       "    <tr>\n",
       "      <th>0</th>\n",
       "      <td>1</td>\n",
       "      <td>A Dijiang</td>\n",
       "      <td>M</td>\n",
       "      <td>24.00</td>\n",
       "      <td>180.00</td>\n",
       "      <td>80.00</td>\n",
       "      <td>China</td>\n",
       "      <td>CHN</td>\n",
       "      <td>1992 Summer</td>\n",
       "      <td>1992</td>\n",
       "      <td>Summer</td>\n",
       "      <td>Barcelona</td>\n",
       "      <td>Basketball</td>\n",
       "      <td>Basketball Men's Basketball</td>\n",
       "      <td>NaN</td>\n",
       "      <td>China</td>\n",
       "    </tr>\n",
       "    <tr>\n",
       "      <th>1</th>\n",
       "      <td>2</td>\n",
       "      <td>A Lamusi</td>\n",
       "      <td>M</td>\n",
       "      <td>23.00</td>\n",
       "      <td>170.00</td>\n",
       "      <td>60.00</td>\n",
       "      <td>China</td>\n",
       "      <td>CHN</td>\n",
       "      <td>2012 Summer</td>\n",
       "      <td>2012</td>\n",
       "      <td>Summer</td>\n",
       "      <td>London</td>\n",
       "      <td>Judo</td>\n",
       "      <td>Judo Men's Extra-Lightweight</td>\n",
       "      <td>NaN</td>\n",
       "      <td>China</td>\n",
       "    </tr>\n",
       "    <tr>\n",
       "      <th>2</th>\n",
       "      <td>3</td>\n",
       "      <td>Gunnar Nielsen Aaby</td>\n",
       "      <td>M</td>\n",
       "      <td>24.00</td>\n",
       "      <td>NaN</td>\n",
       "      <td>NaN</td>\n",
       "      <td>Denmark</td>\n",
       "      <td>DEN</td>\n",
       "      <td>1920 Summer</td>\n",
       "      <td>1920</td>\n",
       "      <td>Summer</td>\n",
       "      <td>Antwerpen</td>\n",
       "      <td>Football</td>\n",
       "      <td>Football Men's Football</td>\n",
       "      <td>NaN</td>\n",
       "      <td>Denmark</td>\n",
       "    </tr>\n",
       "    <tr>\n",
       "      <th>3</th>\n",
       "      <td>4</td>\n",
       "      <td>Edgar Lindenau Aabye</td>\n",
       "      <td>M</td>\n",
       "      <td>34.00</td>\n",
       "      <td>NaN</td>\n",
       "      <td>NaN</td>\n",
       "      <td>Denmark/Sweden</td>\n",
       "      <td>DEN</td>\n",
       "      <td>1900 Summer</td>\n",
       "      <td>1900</td>\n",
       "      <td>Summer</td>\n",
       "      <td>Paris</td>\n",
       "      <td>Tug-Of-War</td>\n",
       "      <td>Tug-Of-War Men's Tug-Of-War</td>\n",
       "      <td>Gold</td>\n",
       "      <td>Denmark</td>\n",
       "    </tr>\n",
       "    <tr>\n",
       "      <th>4</th>\n",
       "      <td>5</td>\n",
       "      <td>Christine Jacoba Aaftink</td>\n",
       "      <td>F</td>\n",
       "      <td>21.00</td>\n",
       "      <td>185.00</td>\n",
       "      <td>82.00</td>\n",
       "      <td>Netherlands</td>\n",
       "      <td>NED</td>\n",
       "      <td>1988 Winter</td>\n",
       "      <td>1988</td>\n",
       "      <td>Winter</td>\n",
       "      <td>Calgary</td>\n",
       "      <td>Speed Skating</td>\n",
       "      <td>Speed Skating Women's 500 metres</td>\n",
       "      <td>NaN</td>\n",
       "      <td>Netherlands</td>\n",
       "    </tr>\n",
       "    <tr>\n",
       "      <th>...</th>\n",
       "      <td>...</td>\n",
       "      <td>...</td>\n",
       "      <td>...</td>\n",
       "      <td>...</td>\n",
       "      <td>...</td>\n",
       "      <td>...</td>\n",
       "      <td>...</td>\n",
       "      <td>...</td>\n",
       "      <td>...</td>\n",
       "      <td>...</td>\n",
       "      <td>...</td>\n",
       "      <td>...</td>\n",
       "      <td>...</td>\n",
       "      <td>...</td>\n",
       "      <td>...</td>\n",
       "      <td>...</td>\n",
       "    </tr>\n",
       "    <tr>\n",
       "      <th>69940</th>\n",
       "      <td>35656</td>\n",
       "      <td>Stuart Fitzsimmons</td>\n",
       "      <td>M</td>\n",
       "      <td>19.00</td>\n",
       "      <td>NaN</td>\n",
       "      <td>NaN</td>\n",
       "      <td>Great Britain</td>\n",
       "      <td>GBR</td>\n",
       "      <td>1976 Winter</td>\n",
       "      <td>1976</td>\n",
       "      <td>Winter</td>\n",
       "      <td>Innsbruck</td>\n",
       "      <td>Alpine Skiing</td>\n",
       "      <td>Alpine Skiing Men's Giant Slalom</td>\n",
       "      <td>NaN</td>\n",
       "      <td>UK</td>\n",
       "    </tr>\n",
       "    <tr>\n",
       "      <th>69941</th>\n",
       "      <td>35656</td>\n",
       "      <td>Stuart Fitzsimmons</td>\n",
       "      <td>M</td>\n",
       "      <td>19.00</td>\n",
       "      <td>NaN</td>\n",
       "      <td>NaN</td>\n",
       "      <td>Great Britain</td>\n",
       "      <td>GBR</td>\n",
       "      <td>1976 Winter</td>\n",
       "      <td>1976</td>\n",
       "      <td>Winter</td>\n",
       "      <td>Innsbruck</td>\n",
       "      <td>Alpine Skiing</td>\n",
       "      <td>Alpine Skiing Men's Slalom</td>\n",
       "      <td>NaN</td>\n",
       "      <td>UK</td>\n",
       "    </tr>\n",
       "    <tr>\n",
       "      <th>69942</th>\n",
       "      <td>35657</td>\n",
       "      <td>David Thomas \"Dave\" Fitzsimons</td>\n",
       "      <td>M</td>\n",
       "      <td>26.00</td>\n",
       "      <td>170.00</td>\n",
       "      <td>65.00</td>\n",
       "      <td>Australia</td>\n",
       "      <td>AUS</td>\n",
       "      <td>1976 Summer</td>\n",
       "      <td>1976</td>\n",
       "      <td>Summer</td>\n",
       "      <td>Montreal</td>\n",
       "      <td>Athletics</td>\n",
       "      <td>Athletics Men's 10,000 metres</td>\n",
       "      <td>NaN</td>\n",
       "      <td>Australia</td>\n",
       "    </tr>\n",
       "    <tr>\n",
       "      <th>69943</th>\n",
       "      <td>35657</td>\n",
       "      <td>David Thomas \"Dave\" Fitzsimons</td>\n",
       "      <td>M</td>\n",
       "      <td>30.00</td>\n",
       "      <td>170.00</td>\n",
       "      <td>65.00</td>\n",
       "      <td>Australia</td>\n",
       "      <td>AUS</td>\n",
       "      <td>1980 Summer</td>\n",
       "      <td>1980</td>\n",
       "      <td>Summer</td>\n",
       "      <td>Moskva</td>\n",
       "      <td>Athletics</td>\n",
       "      <td>Athletics Men's 5,000 metres</td>\n",
       "      <td>NaN</td>\n",
       "      <td>Australia</td>\n",
       "    </tr>\n",
       "    <tr>\n",
       "      <th>69944</th>\n",
       "      <td>35658</td>\n",
       "      <td>Marek Fiurek</td>\n",
       "      <td>M</td>\n",
       "      <td>23.00</td>\n",
       "      <td>180.00</td>\n",
       "      <td>68.00</td>\n",
       "      <td>Czech Republic</td>\n",
       "      <td>CZE</td>\n",
       "      <td>1998 Winter</td>\n",
       "      <td>1998</td>\n",
       "      <td>Winter</td>\n",
       "      <td>Nagano</td>\n",
       "      <td>Nordic Combined</td>\n",
       "      <td>Nordic Combined Men's Team</td>\n",
       "      <td>NaN</td>\n",
       "      <td>Czech Republic</td>\n",
       "    </tr>\n",
       "  </tbody>\n",
       "</table>\n",
       "<p>69562 rows × 16 columns</p>\n",
       "</div>"
      ],
      "text/plain": [
       "          ID                            Name Sex   Age  Height  Weight  \\\n",
       "0          1                       A Dijiang   M 24.00  180.00   80.00   \n",
       "1          2                        A Lamusi   M 23.00  170.00   60.00   \n",
       "2          3             Gunnar Nielsen Aaby   M 24.00     NaN     NaN   \n",
       "3          4            Edgar Lindenau Aabye   M 34.00     NaN     NaN   \n",
       "4          5        Christine Jacoba Aaftink   F 21.00  185.00   82.00   \n",
       "...      ...                             ...  ..   ...     ...     ...   \n",
       "69940  35656              Stuart Fitzsimmons   M 19.00     NaN     NaN   \n",
       "69941  35656              Stuart Fitzsimmons   M 19.00     NaN     NaN   \n",
       "69942  35657  David Thomas \"Dave\" Fitzsimons   M 26.00  170.00   65.00   \n",
       "69943  35657  David Thomas \"Dave\" Fitzsimons   M 30.00  170.00   65.00   \n",
       "69944  35658                    Marek Fiurek   M 23.00  180.00   68.00   \n",
       "\n",
       "                 Team  NOC        Games  Year  Season       City  \\\n",
       "0               China  CHN  1992 Summer  1992  Summer  Barcelona   \n",
       "1               China  CHN  2012 Summer  2012  Summer     London   \n",
       "2             Denmark  DEN  1920 Summer  1920  Summer  Antwerpen   \n",
       "3      Denmark/Sweden  DEN  1900 Summer  1900  Summer      Paris   \n",
       "4         Netherlands  NED  1988 Winter  1988  Winter    Calgary   \n",
       "...               ...  ...          ...   ...     ...        ...   \n",
       "69940   Great Britain  GBR  1976 Winter  1976  Winter  Innsbruck   \n",
       "69941   Great Britain  GBR  1976 Winter  1976  Winter  Innsbruck   \n",
       "69942       Australia  AUS  1976 Summer  1976  Summer   Montreal   \n",
       "69943       Australia  AUS  1980 Summer  1980  Summer     Moskva   \n",
       "69944  Czech Republic  CZE  1998 Winter  1998  Winter     Nagano   \n",
       "\n",
       "                 Sport                             Event Medal             reg  \n",
       "0           Basketball       Basketball Men's Basketball   NaN           China  \n",
       "1                 Judo      Judo Men's Extra-Lightweight   NaN           China  \n",
       "2             Football           Football Men's Football   NaN         Denmark  \n",
       "3           Tug-Of-War       Tug-Of-War Men's Tug-Of-War  Gold         Denmark  \n",
       "4        Speed Skating  Speed Skating Women's 500 metres   NaN     Netherlands  \n",
       "...                ...                               ...   ...             ...  \n",
       "69940    Alpine Skiing  Alpine Skiing Men's Giant Slalom   NaN              UK  \n",
       "69941    Alpine Skiing        Alpine Skiing Men's Slalom   NaN              UK  \n",
       "69942        Athletics     Athletics Men's 10,000 metres   NaN       Australia  \n",
       "69943        Athletics      Athletics Men's 5,000 metres   NaN       Australia  \n",
       "69944  Nordic Combined        Nordic Combined Men's Team   NaN  Czech Republic  \n",
       "\n",
       "[69562 rows x 16 columns]"
      ]
     },
     "execution_count": 74,
     "metadata": {},
     "output_type": "execute_result"
    }
   ],
   "source": [
    "olympic_df"
   ]
  },
  {
   "cell_type": "code",
   "execution_count": 75,
   "metadata": {},
   "outputs": [],
   "source": [
    "#  creating a binary column to indicate if  athlete won medal or not: 1 -> won; 0->didn't won\n",
    "olympic_df['Athlete Won Medal'] = olympic_df['Medal'].notnull().astype(int)"
   ]
  },
  {
   "cell_type": "code",
   "execution_count": 76,
   "metadata": {},
   "outputs": [
    {
     "data": {
      "text/html": [
       "<div>\n",
       "<style scoped>\n",
       "    .dataframe tbody tr th:only-of-type {\n",
       "        vertical-align: middle;\n",
       "    }\n",
       "\n",
       "    .dataframe tbody tr th {\n",
       "        vertical-align: top;\n",
       "    }\n",
       "\n",
       "    .dataframe thead th {\n",
       "        text-align: right;\n",
       "    }\n",
       "</style>\n",
       "<table border=\"1\" class=\"dataframe\">\n",
       "  <thead>\n",
       "    <tr style=\"text-align: right;\">\n",
       "      <th></th>\n",
       "      <th>ID</th>\n",
       "      <th>Name</th>\n",
       "      <th>Sex</th>\n",
       "      <th>Age</th>\n",
       "      <th>Height</th>\n",
       "      <th>Weight</th>\n",
       "      <th>Team</th>\n",
       "      <th>NOC</th>\n",
       "      <th>Games</th>\n",
       "      <th>Year</th>\n",
       "      <th>Season</th>\n",
       "      <th>City</th>\n",
       "      <th>Sport</th>\n",
       "      <th>Event</th>\n",
       "      <th>Medal</th>\n",
       "      <th>reg</th>\n",
       "      <th>Athlete Won Medal</th>\n",
       "    </tr>\n",
       "  </thead>\n",
       "  <tbody>\n",
       "    <tr>\n",
       "      <th>0</th>\n",
       "      <td>1</td>\n",
       "      <td>A Dijiang</td>\n",
       "      <td>M</td>\n",
       "      <td>24.00</td>\n",
       "      <td>180.00</td>\n",
       "      <td>80.00</td>\n",
       "      <td>China</td>\n",
       "      <td>CHN</td>\n",
       "      <td>1992 Summer</td>\n",
       "      <td>1992</td>\n",
       "      <td>Summer</td>\n",
       "      <td>Barcelona</td>\n",
       "      <td>Basketball</td>\n",
       "      <td>Basketball Men's Basketball</td>\n",
       "      <td>NaN</td>\n",
       "      <td>China</td>\n",
       "      <td>0</td>\n",
       "    </tr>\n",
       "    <tr>\n",
       "      <th>1</th>\n",
       "      <td>2</td>\n",
       "      <td>A Lamusi</td>\n",
       "      <td>M</td>\n",
       "      <td>23.00</td>\n",
       "      <td>170.00</td>\n",
       "      <td>60.00</td>\n",
       "      <td>China</td>\n",
       "      <td>CHN</td>\n",
       "      <td>2012 Summer</td>\n",
       "      <td>2012</td>\n",
       "      <td>Summer</td>\n",
       "      <td>London</td>\n",
       "      <td>Judo</td>\n",
       "      <td>Judo Men's Extra-Lightweight</td>\n",
       "      <td>NaN</td>\n",
       "      <td>China</td>\n",
       "      <td>0</td>\n",
       "    </tr>\n",
       "    <tr>\n",
       "      <th>2</th>\n",
       "      <td>3</td>\n",
       "      <td>Gunnar Nielsen Aaby</td>\n",
       "      <td>M</td>\n",
       "      <td>24.00</td>\n",
       "      <td>NaN</td>\n",
       "      <td>NaN</td>\n",
       "      <td>Denmark</td>\n",
       "      <td>DEN</td>\n",
       "      <td>1920 Summer</td>\n",
       "      <td>1920</td>\n",
       "      <td>Summer</td>\n",
       "      <td>Antwerpen</td>\n",
       "      <td>Football</td>\n",
       "      <td>Football Men's Football</td>\n",
       "      <td>NaN</td>\n",
       "      <td>Denmark</td>\n",
       "      <td>0</td>\n",
       "    </tr>\n",
       "    <tr>\n",
       "      <th>3</th>\n",
       "      <td>4</td>\n",
       "      <td>Edgar Lindenau Aabye</td>\n",
       "      <td>M</td>\n",
       "      <td>34.00</td>\n",
       "      <td>NaN</td>\n",
       "      <td>NaN</td>\n",
       "      <td>Denmark/Sweden</td>\n",
       "      <td>DEN</td>\n",
       "      <td>1900 Summer</td>\n",
       "      <td>1900</td>\n",
       "      <td>Summer</td>\n",
       "      <td>Paris</td>\n",
       "      <td>Tug-Of-War</td>\n",
       "      <td>Tug-Of-War Men's Tug-Of-War</td>\n",
       "      <td>Gold</td>\n",
       "      <td>Denmark</td>\n",
       "      <td>1</td>\n",
       "    </tr>\n",
       "    <tr>\n",
       "      <th>4</th>\n",
       "      <td>5</td>\n",
       "      <td>Christine Jacoba Aaftink</td>\n",
       "      <td>F</td>\n",
       "      <td>21.00</td>\n",
       "      <td>185.00</td>\n",
       "      <td>82.00</td>\n",
       "      <td>Netherlands</td>\n",
       "      <td>NED</td>\n",
       "      <td>1988 Winter</td>\n",
       "      <td>1988</td>\n",
       "      <td>Winter</td>\n",
       "      <td>Calgary</td>\n",
       "      <td>Speed Skating</td>\n",
       "      <td>Speed Skating Women's 500 metres</td>\n",
       "      <td>NaN</td>\n",
       "      <td>Netherlands</td>\n",
       "      <td>0</td>\n",
       "    </tr>\n",
       "    <tr>\n",
       "      <th>...</th>\n",
       "      <td>...</td>\n",
       "      <td>...</td>\n",
       "      <td>...</td>\n",
       "      <td>...</td>\n",
       "      <td>...</td>\n",
       "      <td>...</td>\n",
       "      <td>...</td>\n",
       "      <td>...</td>\n",
       "      <td>...</td>\n",
       "      <td>...</td>\n",
       "      <td>...</td>\n",
       "      <td>...</td>\n",
       "      <td>...</td>\n",
       "      <td>...</td>\n",
       "      <td>...</td>\n",
       "      <td>...</td>\n",
       "      <td>...</td>\n",
       "    </tr>\n",
       "    <tr>\n",
       "      <th>69940</th>\n",
       "      <td>35656</td>\n",
       "      <td>Stuart Fitzsimmons</td>\n",
       "      <td>M</td>\n",
       "      <td>19.00</td>\n",
       "      <td>NaN</td>\n",
       "      <td>NaN</td>\n",
       "      <td>Great Britain</td>\n",
       "      <td>GBR</td>\n",
       "      <td>1976 Winter</td>\n",
       "      <td>1976</td>\n",
       "      <td>Winter</td>\n",
       "      <td>Innsbruck</td>\n",
       "      <td>Alpine Skiing</td>\n",
       "      <td>Alpine Skiing Men's Giant Slalom</td>\n",
       "      <td>NaN</td>\n",
       "      <td>UK</td>\n",
       "      <td>0</td>\n",
       "    </tr>\n",
       "    <tr>\n",
       "      <th>69941</th>\n",
       "      <td>35656</td>\n",
       "      <td>Stuart Fitzsimmons</td>\n",
       "      <td>M</td>\n",
       "      <td>19.00</td>\n",
       "      <td>NaN</td>\n",
       "      <td>NaN</td>\n",
       "      <td>Great Britain</td>\n",
       "      <td>GBR</td>\n",
       "      <td>1976 Winter</td>\n",
       "      <td>1976</td>\n",
       "      <td>Winter</td>\n",
       "      <td>Innsbruck</td>\n",
       "      <td>Alpine Skiing</td>\n",
       "      <td>Alpine Skiing Men's Slalom</td>\n",
       "      <td>NaN</td>\n",
       "      <td>UK</td>\n",
       "      <td>0</td>\n",
       "    </tr>\n",
       "    <tr>\n",
       "      <th>69942</th>\n",
       "      <td>35657</td>\n",
       "      <td>David Thomas \"Dave\" Fitzsimons</td>\n",
       "      <td>M</td>\n",
       "      <td>26.00</td>\n",
       "      <td>170.00</td>\n",
       "      <td>65.00</td>\n",
       "      <td>Australia</td>\n",
       "      <td>AUS</td>\n",
       "      <td>1976 Summer</td>\n",
       "      <td>1976</td>\n",
       "      <td>Summer</td>\n",
       "      <td>Montreal</td>\n",
       "      <td>Athletics</td>\n",
       "      <td>Athletics Men's 10,000 metres</td>\n",
       "      <td>NaN</td>\n",
       "      <td>Australia</td>\n",
       "      <td>0</td>\n",
       "    </tr>\n",
       "    <tr>\n",
       "      <th>69943</th>\n",
       "      <td>35657</td>\n",
       "      <td>David Thomas \"Dave\" Fitzsimons</td>\n",
       "      <td>M</td>\n",
       "      <td>30.00</td>\n",
       "      <td>170.00</td>\n",
       "      <td>65.00</td>\n",
       "      <td>Australia</td>\n",
       "      <td>AUS</td>\n",
       "      <td>1980 Summer</td>\n",
       "      <td>1980</td>\n",
       "      <td>Summer</td>\n",
       "      <td>Moskva</td>\n",
       "      <td>Athletics</td>\n",
       "      <td>Athletics Men's 5,000 metres</td>\n",
       "      <td>NaN</td>\n",
       "      <td>Australia</td>\n",
       "      <td>0</td>\n",
       "    </tr>\n",
       "    <tr>\n",
       "      <th>69944</th>\n",
       "      <td>35658</td>\n",
       "      <td>Marek Fiurek</td>\n",
       "      <td>M</td>\n",
       "      <td>23.00</td>\n",
       "      <td>180.00</td>\n",
       "      <td>68.00</td>\n",
       "      <td>Czech Republic</td>\n",
       "      <td>CZE</td>\n",
       "      <td>1998 Winter</td>\n",
       "      <td>1998</td>\n",
       "      <td>Winter</td>\n",
       "      <td>Nagano</td>\n",
       "      <td>Nordic Combined</td>\n",
       "      <td>Nordic Combined Men's Team</td>\n",
       "      <td>NaN</td>\n",
       "      <td>Czech Republic</td>\n",
       "      <td>0</td>\n",
       "    </tr>\n",
       "  </tbody>\n",
       "</table>\n",
       "<p>69562 rows × 17 columns</p>\n",
       "</div>"
      ],
      "text/plain": [
       "          ID                            Name Sex   Age  Height  Weight  \\\n",
       "0          1                       A Dijiang   M 24.00  180.00   80.00   \n",
       "1          2                        A Lamusi   M 23.00  170.00   60.00   \n",
       "2          3             Gunnar Nielsen Aaby   M 24.00     NaN     NaN   \n",
       "3          4            Edgar Lindenau Aabye   M 34.00     NaN     NaN   \n",
       "4          5        Christine Jacoba Aaftink   F 21.00  185.00   82.00   \n",
       "...      ...                             ...  ..   ...     ...     ...   \n",
       "69940  35656              Stuart Fitzsimmons   M 19.00     NaN     NaN   \n",
       "69941  35656              Stuart Fitzsimmons   M 19.00     NaN     NaN   \n",
       "69942  35657  David Thomas \"Dave\" Fitzsimons   M 26.00  170.00   65.00   \n",
       "69943  35657  David Thomas \"Dave\" Fitzsimons   M 30.00  170.00   65.00   \n",
       "69944  35658                    Marek Fiurek   M 23.00  180.00   68.00   \n",
       "\n",
       "                 Team  NOC        Games  Year  Season       City  \\\n",
       "0               China  CHN  1992 Summer  1992  Summer  Barcelona   \n",
       "1               China  CHN  2012 Summer  2012  Summer     London   \n",
       "2             Denmark  DEN  1920 Summer  1920  Summer  Antwerpen   \n",
       "3      Denmark/Sweden  DEN  1900 Summer  1900  Summer      Paris   \n",
       "4         Netherlands  NED  1988 Winter  1988  Winter    Calgary   \n",
       "...               ...  ...          ...   ...     ...        ...   \n",
       "69940   Great Britain  GBR  1976 Winter  1976  Winter  Innsbruck   \n",
       "69941   Great Britain  GBR  1976 Winter  1976  Winter  Innsbruck   \n",
       "69942       Australia  AUS  1976 Summer  1976  Summer   Montreal   \n",
       "69943       Australia  AUS  1980 Summer  1980  Summer     Moskva   \n",
       "69944  Czech Republic  CZE  1998 Winter  1998  Winter     Nagano   \n",
       "\n",
       "                 Sport                             Event Medal  \\\n",
       "0           Basketball       Basketball Men's Basketball   NaN   \n",
       "1                 Judo      Judo Men's Extra-Lightweight   NaN   \n",
       "2             Football           Football Men's Football   NaN   \n",
       "3           Tug-Of-War       Tug-Of-War Men's Tug-Of-War  Gold   \n",
       "4        Speed Skating  Speed Skating Women's 500 metres   NaN   \n",
       "...                ...                               ...   ...   \n",
       "69940    Alpine Skiing  Alpine Skiing Men's Giant Slalom   NaN   \n",
       "69941    Alpine Skiing        Alpine Skiing Men's Slalom   NaN   \n",
       "69942        Athletics     Athletics Men's 10,000 metres   NaN   \n",
       "69943        Athletics      Athletics Men's 5,000 metres   NaN   \n",
       "69944  Nordic Combined        Nordic Combined Men's Team   NaN   \n",
       "\n",
       "                  reg  Athlete Won Medal  \n",
       "0               China                  0  \n",
       "1               China                  0  \n",
       "2             Denmark                  0  \n",
       "3             Denmark                  1  \n",
       "4         Netherlands                  0  \n",
       "...               ...                ...  \n",
       "69940              UK                  0  \n",
       "69941              UK                  0  \n",
       "69942       Australia                  0  \n",
       "69943       Australia                  0  \n",
       "69944  Czech Republic                  0  \n",
       "\n",
       "[69562 rows x 17 columns]"
      ]
     },
     "execution_count": 76,
     "metadata": {},
     "output_type": "execute_result"
    }
   ],
   "source": [
    "olympic_df"
   ]
  },
  {
   "cell_type": "code",
   "execution_count": 77,
   "metadata": {},
   "outputs": [],
   "source": [
    "olympic_df['Medal'] = olympic_df['Medal'].fillna(value='No medal')"
   ]
  },
  {
   "cell_type": "code",
   "execution_count": 78,
   "metadata": {},
   "outputs": [
    {
     "data": {
      "text/plain": [
       "ID                       0\n",
       "Name                     0\n",
       "Sex                      0\n",
       "Age                   2669\n",
       "Height               15861\n",
       "Weight               16704\n",
       "Team                     0\n",
       "NOC                      0\n",
       "Games                    0\n",
       "Year                     0\n",
       "Season                   0\n",
       "City                     0\n",
       "Sport                    0\n",
       "Event                    0\n",
       "Medal                    0\n",
       "reg                      8\n",
       "Athlete Won Medal        0\n",
       "dtype: int64"
      ]
     },
     "execution_count": 78,
     "metadata": {},
     "output_type": "execute_result"
    }
   ],
   "source": [
    "olympic_df.isnull().sum()"
   ]
  },
  {
   "cell_type": "code",
   "execution_count": 79,
   "metadata": {},
   "outputs": [
    {
     "data": {
      "text/html": [
       "<div>\n",
       "<style scoped>\n",
       "    .dataframe tbody tr th:only-of-type {\n",
       "        vertical-align: middle;\n",
       "    }\n",
       "\n",
       "    .dataframe tbody tr th {\n",
       "        vertical-align: top;\n",
       "    }\n",
       "\n",
       "    .dataframe thead th {\n",
       "        text-align: right;\n",
       "    }\n",
       "</style>\n",
       "<table border=\"1\" class=\"dataframe\">\n",
       "  <thead>\n",
       "    <tr style=\"text-align: right;\">\n",
       "      <th></th>\n",
       "      <th>NOC</th>\n",
       "      <th>reg</th>\n",
       "      <th>notes</th>\n",
       "    </tr>\n",
       "  </thead>\n",
       "  <tbody>\n",
       "    <tr>\n",
       "      <th>0</th>\n",
       "      <td>AFG</td>\n",
       "      <td>Afghanistan</td>\n",
       "      <td>NaN</td>\n",
       "    </tr>\n",
       "    <tr>\n",
       "      <th>1</th>\n",
       "      <td>AHO</td>\n",
       "      <td>Curacao</td>\n",
       "      <td>Netherlands Antilles</td>\n",
       "    </tr>\n",
       "    <tr>\n",
       "      <th>2</th>\n",
       "      <td>ALB</td>\n",
       "      <td>Albania</td>\n",
       "      <td>NaN</td>\n",
       "    </tr>\n",
       "    <tr>\n",
       "      <th>3</th>\n",
       "      <td>ALG</td>\n",
       "      <td>Algeria</td>\n",
       "      <td>NaN</td>\n",
       "    </tr>\n",
       "    <tr>\n",
       "      <th>4</th>\n",
       "      <td>AND</td>\n",
       "      <td>Andorra</td>\n",
       "      <td>NaN</td>\n",
       "    </tr>\n",
       "    <tr>\n",
       "      <th>...</th>\n",
       "      <td>...</td>\n",
       "      <td>...</td>\n",
       "      <td>...</td>\n",
       "    </tr>\n",
       "    <tr>\n",
       "      <th>225</th>\n",
       "      <td>YEM</td>\n",
       "      <td>Yemen</td>\n",
       "      <td>NaN</td>\n",
       "    </tr>\n",
       "    <tr>\n",
       "      <th>226</th>\n",
       "      <td>YMD</td>\n",
       "      <td>Yemen</td>\n",
       "      <td>South Yemen</td>\n",
       "    </tr>\n",
       "    <tr>\n",
       "      <th>227</th>\n",
       "      <td>YUG</td>\n",
       "      <td>Serbia</td>\n",
       "      <td>Yugoslavia</td>\n",
       "    </tr>\n",
       "    <tr>\n",
       "      <th>228</th>\n",
       "      <td>ZAM</td>\n",
       "      <td>Zambia</td>\n",
       "      <td>NaN</td>\n",
       "    </tr>\n",
       "    <tr>\n",
       "      <th>229</th>\n",
       "      <td>ZIM</td>\n",
       "      <td>Zimbabwe</td>\n",
       "      <td>NaN</td>\n",
       "    </tr>\n",
       "  </tbody>\n",
       "</table>\n",
       "<p>230 rows × 3 columns</p>\n",
       "</div>"
      ],
      "text/plain": [
       "     NOC          reg                 notes\n",
       "0    AFG  Afghanistan                   NaN\n",
       "1    AHO      Curacao  Netherlands Antilles\n",
       "2    ALB      Albania                   NaN\n",
       "3    ALG      Algeria                   NaN\n",
       "4    AND      Andorra                   NaN\n",
       "..   ...          ...                   ...\n",
       "225  YEM        Yemen                   NaN\n",
       "226  YMD        Yemen           South Yemen\n",
       "227  YUG       Serbia            Yugoslavia\n",
       "228  ZAM       Zambia                   NaN\n",
       "229  ZIM     Zimbabwe                   NaN\n",
       "\n",
       "[230 rows x 3 columns]"
      ]
     },
     "execution_count": 79,
     "metadata": {},
     "output_type": "execute_result"
    }
   ],
   "source": [
    "noc_region_df"
   ]
  },
  {
   "cell_type": "code",
   "execution_count": 80,
   "metadata": {},
   "outputs": [
    {
     "data": {
      "text/html": [
       "<div>\n",
       "<style scoped>\n",
       "    .dataframe tbody tr th:only-of-type {\n",
       "        vertical-align: middle;\n",
       "    }\n",
       "\n",
       "    .dataframe tbody tr th {\n",
       "        vertical-align: top;\n",
       "    }\n",
       "\n",
       "    .dataframe thead th {\n",
       "        text-align: right;\n",
       "    }\n",
       "</style>\n",
       "<table border=\"1\" class=\"dataframe\">\n",
       "  <thead>\n",
       "    <tr style=\"text-align: right;\">\n",
       "      <th></th>\n",
       "      <th>NOC</th>\n",
       "      <th>reg</th>\n",
       "      <th>notes</th>\n",
       "    </tr>\n",
       "  </thead>\n",
       "  <tbody>\n",
       "    <tr>\n",
       "      <th>168</th>\n",
       "      <td>ROT</td>\n",
       "      <td>NaN</td>\n",
       "      <td>Refugee Olympic Team</td>\n",
       "    </tr>\n",
       "  </tbody>\n",
       "</table>\n",
       "</div>"
      ],
      "text/plain": [
       "     NOC  reg                 notes\n",
       "168  ROT  NaN  Refugee Olympic Team"
      ]
     },
     "execution_count": 80,
     "metadata": {},
     "output_type": "execute_result"
    }
   ],
   "source": [
    "noc_region_df[noc_region_df['NOC']=='ROT']"
   ]
  },
  {
   "cell_type": "code",
   "execution_count": 81,
   "metadata": {},
   "outputs": [
    {
     "data": {
      "text/plain": [
       "ID                       0\n",
       "Name                     0\n",
       "Sex                      0\n",
       "Age                   2669\n",
       "Height               15861\n",
       "Weight               16704\n",
       "Team                     0\n",
       "NOC                      0\n",
       "Games                    0\n",
       "Year                     0\n",
       "Season                   0\n",
       "City                     0\n",
       "Sport                    0\n",
       "Event                    0\n",
       "Medal                    0\n",
       "reg                      8\n",
       "Athlete Won Medal        0\n",
       "dtype: int64"
      ]
     },
     "execution_count": 81,
     "metadata": {},
     "output_type": "execute_result"
    }
   ],
   "source": [
    "olympic_df.isnull().sum()"
   ]
  },
  {
   "cell_type": "code",
   "execution_count": 82,
   "metadata": {},
   "outputs": [
    {
     "data": {
      "text/html": [
       "<div>\n",
       "<style scoped>\n",
       "    .dataframe tbody tr th:only-of-type {\n",
       "        vertical-align: middle;\n",
       "    }\n",
       "\n",
       "    .dataframe tbody tr th {\n",
       "        vertical-align: top;\n",
       "    }\n",
       "\n",
       "    .dataframe thead th {\n",
       "        text-align: right;\n",
       "    }\n",
       "</style>\n",
       "<table border=\"1\" class=\"dataframe\">\n",
       "  <thead>\n",
       "    <tr style=\"text-align: right;\">\n",
       "      <th></th>\n",
       "      <th>ID</th>\n",
       "      <th>Name</th>\n",
       "      <th>Sex</th>\n",
       "      <th>Age</th>\n",
       "      <th>Height</th>\n",
       "      <th>Weight</th>\n",
       "      <th>Team</th>\n",
       "      <th>NOC</th>\n",
       "      <th>Games</th>\n",
       "      <th>Year</th>\n",
       "      <th>Season</th>\n",
       "      <th>City</th>\n",
       "      <th>Sport</th>\n",
       "      <th>Event</th>\n",
       "      <th>Medal</th>\n",
       "      <th>reg</th>\n",
       "      <th>Athlete Won Medal</th>\n",
       "    </tr>\n",
       "  </thead>\n",
       "  <tbody>\n",
       "    <tr>\n",
       "      <th>6264</th>\n",
       "      <td>3515</td>\n",
       "      <td>Paulo Amotun Lokoro</td>\n",
       "      <td>M</td>\n",
       "      <td>24.00</td>\n",
       "      <td>170.00</td>\n",
       "      <td>61.00</td>\n",
       "      <td>Refugee Olympic Athletes</td>\n",
       "      <td>ROT</td>\n",
       "      <td>2016 Summer</td>\n",
       "      <td>2016</td>\n",
       "      <td>Summer</td>\n",
       "      <td>Rio de Janeiro</td>\n",
       "      <td>Athletics</td>\n",
       "      <td>Athletics Men's 1,500 metres</td>\n",
       "      <td>No medal</td>\n",
       "      <td>NaN</td>\n",
       "      <td>0</td>\n",
       "    </tr>\n",
       "    <tr>\n",
       "      <th>7896</th>\n",
       "      <td>4379</td>\n",
       "      <td>Rami Anis</td>\n",
       "      <td>M</td>\n",
       "      <td>25.00</td>\n",
       "      <td>178.00</td>\n",
       "      <td>78.00</td>\n",
       "      <td>Refugee Olympic Athletes</td>\n",
       "      <td>ROT</td>\n",
       "      <td>2016 Summer</td>\n",
       "      <td>2016</td>\n",
       "      <td>Summer</td>\n",
       "      <td>Rio de Janeiro</td>\n",
       "      <td>Swimming</td>\n",
       "      <td>Swimming Men's 100 metres Freestyle</td>\n",
       "      <td>No medal</td>\n",
       "      <td>NaN</td>\n",
       "      <td>0</td>\n",
       "    </tr>\n",
       "    <tr>\n",
       "      <th>7897</th>\n",
       "      <td>4379</td>\n",
       "      <td>Rami Anis</td>\n",
       "      <td>M</td>\n",
       "      <td>25.00</td>\n",
       "      <td>178.00</td>\n",
       "      <td>78.00</td>\n",
       "      <td>Refugee Olympic Athletes</td>\n",
       "      <td>ROT</td>\n",
       "      <td>2016 Summer</td>\n",
       "      <td>2016</td>\n",
       "      <td>Summer</td>\n",
       "      <td>Rio de Janeiro</td>\n",
       "      <td>Swimming</td>\n",
       "      <td>Swimming Men's 100 metres Butterfly</td>\n",
       "      <td>No medal</td>\n",
       "      <td>NaN</td>\n",
       "      <td>0</td>\n",
       "    </tr>\n",
       "    <tr>\n",
       "      <th>21517</th>\n",
       "      <td>11364</td>\n",
       "      <td>Yiech Pur Biel</td>\n",
       "      <td>M</td>\n",
       "      <td>21.00</td>\n",
       "      <td>178.00</td>\n",
       "      <td>62.00</td>\n",
       "      <td>Refugee Olympic Athletes</td>\n",
       "      <td>ROT</td>\n",
       "      <td>2016 Summer</td>\n",
       "      <td>2016</td>\n",
       "      <td>Summer</td>\n",
       "      <td>Rio de Janeiro</td>\n",
       "      <td>Athletics</td>\n",
       "      <td>Athletics Men's 800 metres</td>\n",
       "      <td>No medal</td>\n",
       "      <td>NaN</td>\n",
       "      <td>0</td>\n",
       "    </tr>\n",
       "    <tr>\n",
       "      <th>31692</th>\n",
       "      <td>16287</td>\n",
       "      <td>Mabika Yolande Bukasa</td>\n",
       "      <td>F</td>\n",
       "      <td>28.00</td>\n",
       "      <td>170.00</td>\n",
       "      <td>70.00</td>\n",
       "      <td>Refugee Olympic Athletes</td>\n",
       "      <td>ROT</td>\n",
       "      <td>2016 Summer</td>\n",
       "      <td>2016</td>\n",
       "      <td>Summer</td>\n",
       "      <td>Rio de Janeiro</td>\n",
       "      <td>Judo</td>\n",
       "      <td>Judo Women's Middleweight</td>\n",
       "      <td>No medal</td>\n",
       "      <td>NaN</td>\n",
       "      <td>0</td>\n",
       "    </tr>\n",
       "    <tr>\n",
       "      <th>40201</th>\n",
       "      <td>20693</td>\n",
       "      <td>James Nyang Chiengjiek</td>\n",
       "      <td>M</td>\n",
       "      <td>24.00</td>\n",
       "      <td>179.00</td>\n",
       "      <td>59.00</td>\n",
       "      <td>Refugee Olympic Athletes</td>\n",
       "      <td>ROT</td>\n",
       "      <td>2016 Summer</td>\n",
       "      <td>2016</td>\n",
       "      <td>Summer</td>\n",
       "      <td>Rio de Janeiro</td>\n",
       "      <td>Athletics</td>\n",
       "      <td>Athletics Men's 400 metres</td>\n",
       "      <td>No medal</td>\n",
       "      <td>NaN</td>\n",
       "      <td>0</td>\n",
       "    </tr>\n",
       "    <tr>\n",
       "      <th>61032</th>\n",
       "      <td>31292</td>\n",
       "      <td>Fritz Eccard</td>\n",
       "      <td>M</td>\n",
       "      <td>NaN</td>\n",
       "      <td>NaN</td>\n",
       "      <td>NaN</td>\n",
       "      <td>Unknown</td>\n",
       "      <td>UNK</td>\n",
       "      <td>1912 Summer</td>\n",
       "      <td>1912</td>\n",
       "      <td>Summer</td>\n",
       "      <td>Stockholm</td>\n",
       "      <td>Art Competitions</td>\n",
       "      <td>Art Competitions Mixed Architecture</td>\n",
       "      <td>No medal</td>\n",
       "      <td>NaN</td>\n",
       "      <td>0</td>\n",
       "    </tr>\n",
       "    <tr>\n",
       "      <th>64626</th>\n",
       "      <td>33094</td>\n",
       "      <td>Logona Esau</td>\n",
       "      <td>M</td>\n",
       "      <td>21.00</td>\n",
       "      <td>163.00</td>\n",
       "      <td>69.00</td>\n",
       "      <td>Tuvalu</td>\n",
       "      <td>TUV</td>\n",
       "      <td>2008 Summer</td>\n",
       "      <td>2008</td>\n",
       "      <td>Summer</td>\n",
       "      <td>Beijing</td>\n",
       "      <td>Weightlifting</td>\n",
       "      <td>Weightlifting Men's Lightweight</td>\n",
       "      <td>No medal</td>\n",
       "      <td>NaN</td>\n",
       "      <td>0</td>\n",
       "    </tr>\n",
       "  </tbody>\n",
       "</table>\n",
       "</div>"
      ],
      "text/plain": [
       "          ID                    Name Sex   Age  Height  Weight  \\\n",
       "6264    3515     Paulo Amotun Lokoro   M 24.00  170.00   61.00   \n",
       "7896    4379               Rami Anis   M 25.00  178.00   78.00   \n",
       "7897    4379               Rami Anis   M 25.00  178.00   78.00   \n",
       "21517  11364          Yiech Pur Biel   M 21.00  178.00   62.00   \n",
       "31692  16287   Mabika Yolande Bukasa   F 28.00  170.00   70.00   \n",
       "40201  20693  James Nyang Chiengjiek   M 24.00  179.00   59.00   \n",
       "61032  31292            Fritz Eccard   M   NaN     NaN     NaN   \n",
       "64626  33094             Logona Esau   M 21.00  163.00   69.00   \n",
       "\n",
       "                           Team  NOC        Games  Year  Season  \\\n",
       "6264   Refugee Olympic Athletes  ROT  2016 Summer  2016  Summer   \n",
       "7896   Refugee Olympic Athletes  ROT  2016 Summer  2016  Summer   \n",
       "7897   Refugee Olympic Athletes  ROT  2016 Summer  2016  Summer   \n",
       "21517  Refugee Olympic Athletes  ROT  2016 Summer  2016  Summer   \n",
       "31692  Refugee Olympic Athletes  ROT  2016 Summer  2016  Summer   \n",
       "40201  Refugee Olympic Athletes  ROT  2016 Summer  2016  Summer   \n",
       "61032                   Unknown  UNK  1912 Summer  1912  Summer   \n",
       "64626                    Tuvalu  TUV  2008 Summer  2008  Summer   \n",
       "\n",
       "                 City             Sport                                Event  \\\n",
       "6264   Rio de Janeiro         Athletics         Athletics Men's 1,500 metres   \n",
       "7896   Rio de Janeiro          Swimming  Swimming Men's 100 metres Freestyle   \n",
       "7897   Rio de Janeiro          Swimming  Swimming Men's 100 metres Butterfly   \n",
       "21517  Rio de Janeiro         Athletics           Athletics Men's 800 metres   \n",
       "31692  Rio de Janeiro              Judo            Judo Women's Middleweight   \n",
       "40201  Rio de Janeiro         Athletics           Athletics Men's 400 metres   \n",
       "61032       Stockholm  Art Competitions  Art Competitions Mixed Architecture   \n",
       "64626         Beijing     Weightlifting      Weightlifting Men's Lightweight   \n",
       "\n",
       "          Medal  reg  Athlete Won Medal  \n",
       "6264   No medal  NaN                  0  \n",
       "7896   No medal  NaN                  0  \n",
       "7897   No medal  NaN                  0  \n",
       "21517  No medal  NaN                  0  \n",
       "31692  No medal  NaN                  0  \n",
       "40201  No medal  NaN                  0  \n",
       "61032  No medal  NaN                  0  \n",
       "64626  No medal  NaN                  0  "
      ]
     },
     "execution_count": 82,
     "metadata": {},
     "output_type": "execute_result"
    }
   ],
   "source": [
    "olympic_df[olympic_df['reg'].isnull()]"
   ]
  },
  {
   "cell_type": "markdown",
   "metadata": {},
   "source": [
    "**Drop rows with nan values in region** "
   ]
  },
  {
   "cell_type": "code",
   "execution_count": 83,
   "metadata": {},
   "outputs": [],
   "source": [
    "olympic_df.dropna(subset=['reg'], inplace=True)"
   ]
  },
  {
   "cell_type": "code",
   "execution_count": 84,
   "metadata": {},
   "outputs": [
    {
     "data": {
      "text/html": [
       "<div>\n",
       "<style scoped>\n",
       "    .dataframe tbody tr th:only-of-type {\n",
       "        vertical-align: middle;\n",
       "    }\n",
       "\n",
       "    .dataframe tbody tr th {\n",
       "        vertical-align: top;\n",
       "    }\n",
       "\n",
       "    .dataframe thead th {\n",
       "        text-align: right;\n",
       "    }\n",
       "</style>\n",
       "<table border=\"1\" class=\"dataframe\">\n",
       "  <thead>\n",
       "    <tr style=\"text-align: right;\">\n",
       "      <th></th>\n",
       "      <th>ID</th>\n",
       "      <th>Name</th>\n",
       "      <th>Sex</th>\n",
       "      <th>Age</th>\n",
       "      <th>Height</th>\n",
       "      <th>Weight</th>\n",
       "      <th>Team</th>\n",
       "      <th>NOC</th>\n",
       "      <th>Games</th>\n",
       "      <th>Year</th>\n",
       "      <th>Season</th>\n",
       "      <th>City</th>\n",
       "      <th>Sport</th>\n",
       "      <th>Event</th>\n",
       "      <th>Medal</th>\n",
       "      <th>reg</th>\n",
       "      <th>Athlete Won Medal</th>\n",
       "    </tr>\n",
       "  </thead>\n",
       "  <tbody>\n",
       "  </tbody>\n",
       "</table>\n",
       "</div>"
      ],
      "text/plain": [
       "Empty DataFrame\n",
       "Columns: [ID, Name, Sex, Age, Height, Weight, Team, NOC, Games, Year, Season, City, Sport, Event, Medal, reg, Athlete Won Medal]\n",
       "Index: []"
      ]
     },
     "execution_count": 84,
     "metadata": {},
     "output_type": "execute_result"
    }
   ],
   "source": [
    "olympic_df[olympic_df['reg'].isnull()]"
   ]
  },
  {
   "cell_type": "markdown",
   "metadata": {},
   "source": [
    "**Filling  missing values with random forest**\n",
    "\n",
    "After cleaning the dataset, I filled the missing values using a Random Forest Regressor.\n",
    "\n",
    "***Random Forest Regressor:***\n",
    "\n",
    "A Random Forest Regressor is an ensemble learning method that combines multiple decision trees to make predictions. Each decision tree in the forest is trained on a random subset of the data, and the final prediction is obtained by averaging the predictions of all the individual trees. This approach helps improve the accuracy and robustness of the model by reducing the risk of overfitting and capturing complex patterns in the data."
   ]
  },
  {
   "cell_type": "code",
   "execution_count": 85,
   "metadata": {},
   "outputs": [],
   "source": [
    "for column in olympic_df.columns:\n",
    "    if olympic_df[column].isna().any():\n",
    "        olympic_df = f.impute_missing_values_with_random_forest(olympic_df, column)\n",
    "        "
   ]
  },
  {
   "cell_type": "code",
   "execution_count": 86,
   "metadata": {},
   "outputs": [
    {
     "data": {
      "text/plain": [
       "ID                   0\n",
       "Name                 0\n",
       "Sex                  0\n",
       "Age                  0\n",
       "Height               0\n",
       "Weight               0\n",
       "Team                 0\n",
       "NOC                  0\n",
       "Games                0\n",
       "Year                 0\n",
       "Season               0\n",
       "City                 0\n",
       "Sport                0\n",
       "Event                0\n",
       "Medal                0\n",
       "reg                  0\n",
       "Athlete Won Medal    0\n",
       "dtype: int64"
      ]
     },
     "execution_count": 86,
     "metadata": {},
     "output_type": "execute_result"
    }
   ],
   "source": [
    "olympic_df.isnull().sum()"
   ]
  },
  {
   "cell_type": "markdown",
   "metadata": {},
   "source": [
    "## PLOTS"
   ]
  },
  {
   "cell_type": "markdown",
   "metadata": {},
   "source": [
    "### PARTICIPATION OF MALE AND FEMALE  ATHLETES  IN THE OLYMPIC GAMES OVER THE YEARS "
   ]
  },
  {
   "cell_type": "markdown",
   "metadata": {},
   "source": [
    "It is evident that women's involvement was minimal before the 1970s, with a significant increase starting in the 1980s. The data shows that while male athletes consistently had higher participation rates, the gap between male and female athletes has been narrowing steadily in recent decades.\n",
    "\n"
   ]
  },
  {
   "cell_type": "code",
   "execution_count": 87,
   "metadata": {},
   "outputs": [
    {
     "data": {
      "image/png": "[encoded data removed]",
      "text/plain": [
       "<Figure size 640x480 with 1 Axes>"
      ]
     },
     "metadata": {},
     "output_type": "display_data"
    }
   ],
   "source": [
    "sns.countplot(olympic_df, x=\"Year\", hue='Sex')\n",
    "plt.xticks(rotation = 90)\n",
    "plt.show()"
   ]
  },
  {
   "cell_type": "code",
   "execution_count": null,
   "metadata": {},
   "outputs": [],
   "source": []
  },
  {
   "cell_type": "markdown",
   "metadata": {},
   "source": [
    "### Distribution of the medals over gender and age\n",
    "\n",
    "We see that in total men got more medals then women, is due to high quantity of men participation to the olympic games. "
   ]
  },
  {
   "cell_type": "code",
   "execution_count": 88,
   "metadata": {},
   "outputs": [],
   "source": [
    "no_medal_mask= olympic_df[olympic_df['Medal']!='no-medal']"
   ]
  },
  {
   "cell_type": "code",
   "execution_count": 89,
   "metadata": {},
   "outputs": [
    {
     "data": {
      "image/png": "[encoded data removed]",
      "text/plain": [
       "<Figure size 640x480 with 1 Axes>"
      ]
     },
     "metadata": {},
     "output_type": "display_data"
    }
   ],
   "source": [
    "colors = ['gold', 'darkgoldenrod', 'silver']\n",
    "\n",
    "ax = sns.countplot(no_medal_mask, x=\"Sex\", hue='Medal', palette=colors)\n",
    "for container in ax.containers:\n",
    "    ax.bar_label(container, label_type='center', rotation=0, fontsize=10)\n",
    "\n",
    "plt.show()"
   ]
  },
  {
   "cell_type": "markdown",
   "metadata": {},
   "source": [
    "### Same visualizations for after 1980"
   ]
  },
  {
   "cell_type": "code",
   "execution_count": 90,
   "metadata": {},
   "outputs": [],
   "source": [
    "no_medal_mask = olympic_df[olympic_df['Medal']!='no-medal']\n",
    "df_after_1980 = no_medal_mask[no_medal_mask['Year']>1980].copy()"
   ]
  },
  {
   "cell_type": "code",
   "execution_count": 91,
   "metadata": {},
   "outputs": [
    {
     "data": {
      "image/png": "[encoded data removed]",
      "text/plain": [
       "<Figure size 640x480 with 1 Axes>"
      ]
     },
     "metadata": {},
     "output_type": "display_data"
    }
   ],
   "source": [
    "colors = [ 'darkgoldenrod', 'gold','silver']\n",
    "ax = sns.countplot(df_after_1980, x=\"Sex\", hue='Medal', palette=colors)\n",
    "for container in ax.containers:\n",
    "    ax.bar_label(container, label_type='center', rotation=0, fontsize=6)\n",
    "\n",
    "plt.show()"
   ]
  },
  {
   "cell_type": "code",
   "execution_count": 92,
   "metadata": {},
   "outputs": [
    {
     "data": {
      "image/png": "[encoded data removed]",
      "text/plain": [
       "<Figure size 500x500 with 1 Axes>"
      ]
     },
     "metadata": {},
     "output_type": "display_data"
    }
   ],
   "source": [
    "x = sns.displot(olympic_df['Age'].values, color='green')\n",
    "plt.title('Age distribution of Athletes', fontsize=10, fontweight='bold')\n",
    "plt.show()"
   ]
  },
  {
   "cell_type": "markdown",
   "metadata": {},
   "source": [
    "### Total medals gained by each country and visualization of top 10 team with most medals"
   ]
  },
  {
   "cell_type": "markdown",
   "metadata": {},
   "source": [
    "From the table, we can see that the United States leads with the highest number of total medals (1561) and the highest proportion of medals won (0.58). This indicates a high success rate for American athletes. Even if Italy has fewer medals than France, it has a slightly higher proportion (0.31) compared to France (0.27), suggesting that Italy had a more efficient medal-winning performance relative to the number of athletes.\n",
    "\n",
    "Great Britain, Germany, Australia, Sweden, and Canada also have notable performances, with varying proportions of medals won. Germany, for instance, has a proportion of 0.44, which is relatively high compared to its total number of athletes (982)."
   ]
  },
  {
   "cell_type": "code",
   "execution_count": 94,
   "metadata": {},
   "outputs": [
    {
     "data": {
      "text/html": [
       "<div>\n",
       "<style scoped>\n",
       "    .dataframe tbody tr th:only-of-type {\n",
       "        vertical-align: middle;\n",
       "    }\n",
       "\n",
       "    .dataframe tbody tr th {\n",
       "        vertical-align: top;\n",
       "    }\n",
       "\n",
       "    .dataframe thead th {\n",
       "        text-align: right;\n",
       "    }\n",
       "</style>\n",
       "<table border=\"1\" class=\"dataframe\">\n",
       "  <thead>\n",
       "    <tr style=\"text-align: right;\">\n",
       "      <th></th>\n",
       "      <th>NOC</th>\n",
       "      <th>Bronze</th>\n",
       "      <th>Gold</th>\n",
       "      <th>No medal</th>\n",
       "      <th>Silver</th>\n",
       "      <th>Total</th>\n",
       "      <th>Total Athletes</th>\n",
       "      <th>Proportion</th>\n",
       "    </tr>\n",
       "  </thead>\n",
       "  <tbody>\n",
       "    <tr>\n",
       "      <th>0</th>\n",
       "      <td>USA</td>\n",
       "      <td>366</td>\n",
       "      <td>747</td>\n",
       "      <td>3572</td>\n",
       "      <td>448</td>\n",
       "      <td>1561</td>\n",
       "      <td>2704</td>\n",
       "      <td>0.58</td>\n",
       "    </tr>\n",
       "    <tr>\n",
       "      <th>1</th>\n",
       "      <td>FRA</td>\n",
       "      <td>257</td>\n",
       "      <td>184</td>\n",
       "      <td>4169</td>\n",
       "      <td>216</td>\n",
       "      <td>657</td>\n",
       "      <td>2401</td>\n",
       "      <td>0.27</td>\n",
       "    </tr>\n",
       "    <tr>\n",
       "      <th>2</th>\n",
       "      <td>ITA</td>\n",
       "      <td>194</td>\n",
       "      <td>217</td>\n",
       "      <td>3559</td>\n",
       "      <td>193</td>\n",
       "      <td>604</td>\n",
       "      <td>1930</td>\n",
       "      <td>0.31</td>\n",
       "    </tr>\n",
       "    <tr>\n",
       "      <th>3</th>\n",
       "      <td>GBR</td>\n",
       "      <td>186</td>\n",
       "      <td>210</td>\n",
       "      <td>2888</td>\n",
       "      <td>207</td>\n",
       "      <td>603</td>\n",
       "      <td>1865</td>\n",
       "      <td>0.32</td>\n",
       "    </tr>\n",
       "    <tr>\n",
       "      <th>4</th>\n",
       "      <td>GER</td>\n",
       "      <td>144</td>\n",
       "      <td>148</td>\n",
       "      <td>1607</td>\n",
       "      <td>142</td>\n",
       "      <td>434</td>\n",
       "      <td>982</td>\n",
       "      <td>0.44</td>\n",
       "    </tr>\n",
       "    <tr>\n",
       "      <th>5</th>\n",
       "      <td>AUS</td>\n",
       "      <td>151</td>\n",
       "      <td>98</td>\n",
       "      <td>1897</td>\n",
       "      <td>124</td>\n",
       "      <td>373</td>\n",
       "      <td>1152</td>\n",
       "      <td>0.32</td>\n",
       "    </tr>\n",
       "    <tr>\n",
       "      <th>6</th>\n",
       "      <td>SWE</td>\n",
       "      <td>145</td>\n",
       "      <td>84</td>\n",
       "      <td>1761</td>\n",
       "      <td>136</td>\n",
       "      <td>365</td>\n",
       "      <td>1000</td>\n",
       "      <td>0.36</td>\n",
       "    </tr>\n",
       "    <tr>\n",
       "      <th>7</th>\n",
       "      <td>CAN</td>\n",
       "      <td>127</td>\n",
       "      <td>119</td>\n",
       "      <td>2302</td>\n",
       "      <td>114</td>\n",
       "      <td>360</td>\n",
       "      <td>1341</td>\n",
       "      <td>0.27</td>\n",
       "    </tr>\n",
       "  </tbody>\n",
       "</table>\n",
       "</div>"
      ],
      "text/plain": [
       "   NOC  Bronze  Gold  No medal  Silver  Total  Total Athletes  Proportion\n",
       "0  USA     366   747      3572     448   1561            2704        0.58\n",
       "1  FRA     257   184      4169     216    657            2401        0.27\n",
       "2  ITA     194   217      3559     193    604            1930        0.31\n",
       "3  GBR     186   210      2888     207    603            1865        0.32\n",
       "4  GER     144   148      1607     142    434             982        0.44\n",
       "5  AUS     151    98      1897     124    373            1152        0.32\n",
       "6  SWE     145    84      1761     136    365            1000        0.36\n",
       "7  CAN     127   119      2302     114    360            1341        0.27"
      ]
     },
     "execution_count": 94,
     "metadata": {},
     "output_type": "execute_result"
    }
   ],
   "source": [
    "medal_count = olympic_df.groupby(['NOC','Medal']).size().unstack(fill_value=0).reset_index()\n",
    "medal_count['Total'] = medal_count[['Gold', 'Silver', 'Bronze']].sum(axis=1)\n",
    "# medal_count\n",
    "\n",
    "ten_team_with_most_medals = medal_count.sort_values(by=['Total'], ascending=False).head(10)\n",
    "ten_team_with_most_medals\n",
    "\n",
    "team_medal_count = olympic_df.groupby(['NOC', 'Medal']).size()\n",
    "team_medal_count\n",
    "team_athlete_count = olympic_df.groupby('NOC')['ID'].nunique().sort_values(ascending=False).head(10)\n",
    "team_athlete_count = team_athlete_count.reset_index()\n",
    "\n",
    "team_athlete_count.columns = ['NOC', 'Total Athletes']\n",
    "\n",
    "ten_team_with_most_medals = ten_team_with_most_medals.merge(team_athlete_count, on=\"NOC\")\n",
    "\n",
    "ten_team_with_most_medals['Proportion'] = ten_team_with_most_medals['Total']/ten_team_with_most_medals['Total Athletes']\n",
    "ten_team_with_most_medals"
   ]
  },
  {
   "cell_type": "code",
   "execution_count": 95,
   "metadata": {},
   "outputs": [
    {
     "data": {
      "image/png": "[encoded data removed]",
      "text/plain": [
       "<Figure size 640x480 with 1 Axes>"
      ]
     },
     "metadata": {},
     "output_type": "display_data"
    }
   ],
   "source": [
    "colors = ['gold', 'silver', 'darkgoldenrod']\n",
    "\n",
    "ax = ten_team_with_most_medals.set_index('NOC')[['Gold', 'Silver', 'Bronze']].plot(kind='bar', stacked=True, color=colors)\n",
    "\n",
    "ax.set_title('Medal Counts by Country')\n",
    "ax.set_xlabel('Team')\n",
    "ax.set_ylabel('Number of Medals')\n",
    "\n",
    "# number of medals for each type on labels\n",
    "for container in ax.containers:\n",
    "    ax.bar_label(container, label_type='center', rotation=90, fontsize=7)\n",
    "\n",
    "plt.show()"
   ]
  },
  {
   "cell_type": "markdown",
   "metadata": {},
   "source": [
    "### Visualization of 10 athlete with most medals"
   ]
  },
  {
   "cell_type": "markdown",
   "metadata": {},
   "source": [
    "In the table is displayed the success percentage of the top 10 athletes who have won the most medals. The success percentage is calculated as the proportion of medals won to the total number of games participated in, without differentiating between the types of medals (gold, silver, or bronze). Interestingly, some athletes, such as Natalie Anne Coughlin and Raymond Clarence \"Ray\" Ewry, have achieved a 100% success rate, meaning they won a medal in every event they participated in, even though they have fewer total medals compared to other athletes in the list."
   ]
  },
  {
   "cell_type": "code",
   "execution_count": 96,
   "metadata": {},
   "outputs": [],
   "source": [
    "athlete_medal_count = olympic_df.groupby(['ID','Medal']).size().unstack(fill_value=0)\n",
    "athlete_medal_count['Total'] = athlete_medal_count[['Gold', 'Silver', 'Bronze']].sum(axis=1)\n",
    "athlete_medal_count = athlete_medal_count.reset_index()\n",
    "athlete_medal_count = athlete_medal_count[['ID','Gold', 'Silver', 'Bronze', 'Total']]\n",
    "athlete_medal_count.columns.name = None\n",
    "\n",
    "athlete_name = olympic_df[['ID', 'Name']].drop_duplicates()\n",
    "athlete_medal_count = athlete_medal_count.merge(athlete_name, on='ID')\n",
    "ten_athlete_with_most_medals = athlete_medal_count.sort_values(by='Total', ascending=False).head(10)"
   ]
  },
  {
   "cell_type": "code",
   "execution_count": 97,
   "metadata": {},
   "outputs": [
    {
     "data": {
      "text/html": [
       "<div>\n",
       "<style scoped>\n",
       "    .dataframe tbody tr th:only-of-type {\n",
       "        vertical-align: middle;\n",
       "    }\n",
       "\n",
       "    .dataframe tbody tr th {\n",
       "        vertical-align: top;\n",
       "    }\n",
       "\n",
       "    .dataframe thead th {\n",
       "        text-align: right;\n",
       "    }\n",
       "</style>\n",
       "<table border=\"1\" class=\"dataframe\">\n",
       "  <thead>\n",
       "    <tr style=\"text-align: right;\">\n",
       "      <th></th>\n",
       "      <th>ID</th>\n",
       "      <th>Gold</th>\n",
       "      <th>Silver</th>\n",
       "      <th>Bronze</th>\n",
       "      <th>Total</th>\n",
       "      <th>Name</th>\n",
       "    </tr>\n",
       "  </thead>\n",
       "  <tbody>\n",
       "    <tr>\n",
       "      <th>4194</th>\n",
       "      <td>4198</td>\n",
       "      <td>7</td>\n",
       "      <td>5</td>\n",
       "      <td>3</td>\n",
       "      <td>15</td>\n",
       "      <td>Nikolay Yefimovich Andrianov</td>\n",
       "    </tr>\n",
       "    <tr>\n",
       "      <th>11943</th>\n",
       "      <td>11951</td>\n",
       "      <td>8</td>\n",
       "      <td>4</td>\n",
       "      <td>1</td>\n",
       "      <td>13</td>\n",
       "      <td>Ole Einar Bjrndalen</td>\n",
       "    </tr>\n",
       "    <tr>\n",
       "      <th>23398</th>\n",
       "      <td>23426</td>\n",
       "      <td>3</td>\n",
       "      <td>4</td>\n",
       "      <td>5</td>\n",
       "      <td>12</td>\n",
       "      <td>Natalie Anne Coughlin (-Hall)</td>\n",
       "    </tr>\n",
       "    <tr>\n",
       "      <th>35512</th>\n",
       "      <td>35550</td>\n",
       "      <td>8</td>\n",
       "      <td>4</td>\n",
       "      <td>0</td>\n",
       "      <td>12</td>\n",
       "      <td>Birgit Fischer-Schmidt</td>\n",
       "    </tr>\n",
       "    <tr>\n",
       "      <th>11634</th>\n",
       "      <td>11642</td>\n",
       "      <td>8</td>\n",
       "      <td>2</td>\n",
       "      <td>1</td>\n",
       "      <td>11</td>\n",
       "      <td>Matthew Nicholas \"Matt\" Biondi</td>\n",
       "    </tr>\n",
       "    <tr>\n",
       "      <th>18815</th>\n",
       "      <td>18826</td>\n",
       "      <td>7</td>\n",
       "      <td>4</td>\n",
       "      <td>0</td>\n",
       "      <td>11</td>\n",
       "      <td>Vra slavsk (-Odloilov)</td>\n",
       "    </tr>\n",
       "    <tr>\n",
       "      <th>21376</th>\n",
       "      <td>21402</td>\n",
       "      <td>7</td>\n",
       "      <td>3</td>\n",
       "      <td>1</td>\n",
       "      <td>11</td>\n",
       "      <td>Viktor Ivanovych Chukarin</td>\n",
       "    </tr>\n",
       "    <tr>\n",
       "      <th>11935</th>\n",
       "      <td>11943</td>\n",
       "      <td>6</td>\n",
       "      <td>3</td>\n",
       "      <td>1</td>\n",
       "      <td>10</td>\n",
       "      <td>Marit Bjrgen</td>\n",
       "    </tr>\n",
       "    <tr>\n",
       "      <th>5694</th>\n",
       "      <td>5700</td>\n",
       "      <td>5</td>\n",
       "      <td>2</td>\n",
       "      <td>3</td>\n",
       "      <td>10</td>\n",
       "      <td>Polina Hryhorivna Astakhova</td>\n",
       "    </tr>\n",
       "    <tr>\n",
       "      <th>33521</th>\n",
       "      <td>33557</td>\n",
       "      <td>10</td>\n",
       "      <td>0</td>\n",
       "      <td>0</td>\n",
       "      <td>10</td>\n",
       "      <td>Raymond Clarence \"Ray\" Ewry</td>\n",
       "    </tr>\n",
       "  </tbody>\n",
       "</table>\n",
       "</div>"
      ],
      "text/plain": [
       "          ID  Gold  Silver  Bronze  Total                            Name\n",
       "4194    4198     7       5       3     15    Nikolay Yefimovich Andrianov\n",
       "11943  11951     8       4       1     13             Ole Einar Bjrndalen\n",
       "23398  23426     3       4       5     12   Natalie Anne Coughlin (-Hall)\n",
       "35512  35550     8       4       0     12          Birgit Fischer-Schmidt\n",
       "11634  11642     8       2       1     11  Matthew Nicholas \"Matt\" Biondi\n",
       "18815  18826     7       4       0     11          Vra slavsk (-Odloilov)\n",
       "21376  21402     7       3       1     11       Viktor Ivanovych Chukarin\n",
       "11935  11943     6       3       1     10                    Marit Bjrgen\n",
       "5694    5700     5       2       3     10     Polina Hryhorivna Astakhova\n",
       "33521  33557    10       0       0     10     Raymond Clarence \"Ray\" Ewry"
      ]
     },
     "execution_count": 97,
     "metadata": {},
     "output_type": "execute_result"
    }
   ],
   "source": [
    "ten_athlete_with_most_medals"
   ]
  },
  {
   "cell_type": "code",
   "execution_count": 98,
   "metadata": {},
   "outputs": [
    {
     "data": {
      "image/png": "[encoded data removed]",
      "text/plain": [
       "<Figure size 640x480 with 1 Axes>"
      ]
     },
     "metadata": {},
     "output_type": "display_data"
    }
   ],
   "source": [
    "colors = ['gold', 'silver', 'darkgoldenrod']\n",
    "\n",
    "ax = ten_athlete_with_most_medals.set_index('Name')[['Gold', 'Silver', 'Bronze']].plot(kind='bar', stacked=True, color=colors)\n",
    "\n",
    "ax.set_title('Medal Counts by Athlete')\n",
    "ax.set_xlabel('Athlete')\n",
    "ax.set_ylabel('Number of Medals')\n",
    "\n",
    "# number of medals for each type on labels\n",
    "for container in ax.containers:\n",
    "    ax.bar_label(container, label_type='center', rotation=90, fontsize=7)\n",
    "\n",
    "plt.show()"
   ]
  },
  {
   "cell_type": "code",
   "execution_count": 99,
   "metadata": {},
   "outputs": [
    {
     "data": {
      "text/html": [
       "<div>\n",
       "<style scoped>\n",
       "    .dataframe tbody tr th:only-of-type {\n",
       "        vertical-align: middle;\n",
       "    }\n",
       "\n",
       "    .dataframe tbody tr th {\n",
       "        vertical-align: top;\n",
       "    }\n",
       "\n",
       "    .dataframe thead th {\n",
       "        text-align: right;\n",
       "    }\n",
       "</style>\n",
       "<table border=\"1\" class=\"dataframe\">\n",
       "  <thead>\n",
       "    <tr style=\"text-align: right;\">\n",
       "      <th></th>\n",
       "      <th>ID</th>\n",
       "      <th>Gold</th>\n",
       "      <th>Silver</th>\n",
       "      <th>Bronze</th>\n",
       "      <th>Total</th>\n",
       "      <th>Name</th>\n",
       "      <th>Total Participation</th>\n",
       "      <th>athlete_success_percentage</th>\n",
       "    </tr>\n",
       "  </thead>\n",
       "  <tbody>\n",
       "    <tr>\n",
       "      <th>0</th>\n",
       "      <td>4198</td>\n",
       "      <td>7</td>\n",
       "      <td>5</td>\n",
       "      <td>3</td>\n",
       "      <td>15</td>\n",
       "      <td>Nikolay Yefimovich Andrianov</td>\n",
       "      <td>24</td>\n",
       "      <td>62.50</td>\n",
       "    </tr>\n",
       "    <tr>\n",
       "      <th>1</th>\n",
       "      <td>11951</td>\n",
       "      <td>8</td>\n",
       "      <td>4</td>\n",
       "      <td>1</td>\n",
       "      <td>13</td>\n",
       "      <td>Ole Einar Bjrndalen</td>\n",
       "      <td>27</td>\n",
       "      <td>48.15</td>\n",
       "    </tr>\n",
       "    <tr>\n",
       "      <th>2</th>\n",
       "      <td>23426</td>\n",
       "      <td>3</td>\n",
       "      <td>4</td>\n",
       "      <td>5</td>\n",
       "      <td>12</td>\n",
       "      <td>Natalie Anne Coughlin (-Hall)</td>\n",
       "      <td>12</td>\n",
       "      <td>100.00</td>\n",
       "    </tr>\n",
       "    <tr>\n",
       "      <th>3</th>\n",
       "      <td>35550</td>\n",
       "      <td>8</td>\n",
       "      <td>4</td>\n",
       "      <td>0</td>\n",
       "      <td>12</td>\n",
       "      <td>Birgit Fischer-Schmidt</td>\n",
       "      <td>13</td>\n",
       "      <td>92.31</td>\n",
       "    </tr>\n",
       "    <tr>\n",
       "      <th>4</th>\n",
       "      <td>11642</td>\n",
       "      <td>8</td>\n",
       "      <td>2</td>\n",
       "      <td>1</td>\n",
       "      <td>11</td>\n",
       "      <td>Matthew Nicholas \"Matt\" Biondi</td>\n",
       "      <td>12</td>\n",
       "      <td>91.67</td>\n",
       "    </tr>\n",
       "    <tr>\n",
       "      <th>5</th>\n",
       "      <td>18826</td>\n",
       "      <td>7</td>\n",
       "      <td>4</td>\n",
       "      <td>0</td>\n",
       "      <td>11</td>\n",
       "      <td>Vra slavsk (-Odloilov)</td>\n",
       "      <td>18</td>\n",
       "      <td>61.11</td>\n",
       "    </tr>\n",
       "    <tr>\n",
       "      <th>6</th>\n",
       "      <td>21402</td>\n",
       "      <td>7</td>\n",
       "      <td>3</td>\n",
       "      <td>1</td>\n",
       "      <td>11</td>\n",
       "      <td>Viktor Ivanovych Chukarin</td>\n",
       "      <td>16</td>\n",
       "      <td>68.75</td>\n",
       "    </tr>\n",
       "    <tr>\n",
       "      <th>7</th>\n",
       "      <td>11943</td>\n",
       "      <td>6</td>\n",
       "      <td>3</td>\n",
       "      <td>1</td>\n",
       "      <td>10</td>\n",
       "      <td>Marit Bjrgen</td>\n",
       "      <td>19</td>\n",
       "      <td>52.63</td>\n",
       "    </tr>\n",
       "    <tr>\n",
       "      <th>8</th>\n",
       "      <td>5700</td>\n",
       "      <td>5</td>\n",
       "      <td>2</td>\n",
       "      <td>3</td>\n",
       "      <td>10</td>\n",
       "      <td>Polina Hryhorivna Astakhova</td>\n",
       "      <td>19</td>\n",
       "      <td>52.63</td>\n",
       "    </tr>\n",
       "    <tr>\n",
       "      <th>9</th>\n",
       "      <td>33557</td>\n",
       "      <td>10</td>\n",
       "      <td>0</td>\n",
       "      <td>0</td>\n",
       "      <td>10</td>\n",
       "      <td>Raymond Clarence \"Ray\" Ewry</td>\n",
       "      <td>10</td>\n",
       "      <td>100.00</td>\n",
       "    </tr>\n",
       "  </tbody>\n",
       "</table>\n",
       "</div>"
      ],
      "text/plain": [
       "      ID  Gold  Silver  Bronze  Total                            Name  \\\n",
       "0   4198     7       5       3     15    Nikolay Yefimovich Andrianov   \n",
       "1  11951     8       4       1     13             Ole Einar Bjrndalen   \n",
       "2  23426     3       4       5     12   Natalie Anne Coughlin (-Hall)   \n",
       "3  35550     8       4       0     12          Birgit Fischer-Schmidt   \n",
       "4  11642     8       2       1     11  Matthew Nicholas \"Matt\" Biondi   \n",
       "5  18826     7       4       0     11          Vra slavsk (-Odloilov)   \n",
       "6  21402     7       3       1     11       Viktor Ivanovych Chukarin   \n",
       "7  11943     6       3       1     10                    Marit Bjrgen   \n",
       "8   5700     5       2       3     10     Polina Hryhorivna Astakhova   \n",
       "9  33557    10       0       0     10     Raymond Clarence \"Ray\" Ewry   \n",
       "\n",
       "   Total Participation  athlete_success_percentage  \n",
       "0                   24                       62.50  \n",
       "1                   27                       48.15  \n",
       "2                   12                      100.00  \n",
       "3                   13                       92.31  \n",
       "4                   12                       91.67  \n",
       "5                   18                       61.11  \n",
       "6                   16                       68.75  \n",
       "7                   19                       52.63  \n",
       "8                   19                       52.63  \n",
       "9                   10                      100.00  "
      ]
     },
     "execution_count": 99,
     "metadata": {},
     "output_type": "execute_result"
    }
   ],
   "source": [
    "\n",
    "athlete_participation_count = olympic_df['Name'].value_counts()\n",
    "ten_athlete_with_most_medals = ten_athlete_with_most_medals.merge(athlete_participation_count ,on='Name')\n",
    "\n",
    "ten_athlete_with_most_medals.rename(columns={'count':'Total Participation'}, inplace=True)\n",
    "\n",
    "ten_athlete_with_most_medals['athlete_success_percentage'] = (ten_athlete_with_most_medals['Total']/ten_athlete_with_most_medals['Total Participation'])*100\n",
    "ten_athlete_with_most_medals\n",
    "\n"
   ]
  },
  {
   "cell_type": "markdown",
   "metadata": {},
   "source": [
    "### 10 SPORTS WITH MOST PARTCIPANT NUMBER AND WHICH COUNTRY IS GOOD IN WHICH SPORT"
   ]
  },
  {
   "cell_type": "code",
   "execution_count": 100,
   "metadata": {},
   "outputs": [
    {
     "name": "stdout",
     "output_type": "stream",
     "text": [
      "       Sport  Total Participation\n",
      "0  Athletics                 6040\n",
      "1   Swimming                 2267\n",
      "2     Rowing                 1961\n",
      "3   Football                 1800\n",
      "4    Cycling                 1520\n",
      "5     Boxing                 1456\n",
      "6   Shooting                 1330\n",
      "7  Wrestling                 1293\n",
      "8    Sailing                 1291\n",
      "9    Fencing                 1214\n"
     ]
    }
   ],
   "source": [
    "sport_athlete_count = olympic_df.groupby('Sport')['ID'].nunique().sort_values(ascending=False).head(10)\n",
    "sport_athlete_count = sport_athlete_count.reset_index()\n",
    "sport_athlete_count = sport_athlete_count.rename(columns={'ID' : 'Total Participation'})\n",
    "print(sport_athlete_count)"
   ]
  },
  {
   "cell_type": "code",
   "execution_count": 102,
   "metadata": {},
   "outputs": [
    {
     "data": {
      "image/png": "[encoded data removed]",
      "text/plain": [
       "<Figure size 1200x800 with 1 Axes>"
      ]
     },
     "metadata": {},
     "output_type": "display_data"
    }
   ],
   "source": [
    "colors = ['b', 'g', 'r', 'c', 'm', 'y', 'k', 'c', 'r', 'b']\n",
    "sport_athlete_count.plot(kind='bar', x='Sport', y='Total Participation', figsize=(12,8), title='Number of athletes per Sport', color=colors[:len(sport_athlete_count)])\n",
    "plt.xticks(rotation = 90)\n",
    "plt.show()"
   ]
  },
  {
   "cell_type": "code",
   "execution_count": 103,
   "metadata": {},
   "outputs": [],
   "source": [
    "df_olympic_with_ten_sports = sport_athlete_count.merge(olympic_df, on='Sport')"
   ]
  },
  {
   "cell_type": "code",
   "execution_count": 104,
   "metadata": {},
   "outputs": [
    {
     "data": {
      "text/plain": [
       "array(['Athletics', 'Swimming', 'Rowing', 'Football', 'Cycling', 'Boxing',\n",
       "       'Shooting', 'Wrestling', 'Sailing', 'Fencing'], dtype=object)"
      ]
     },
     "execution_count": 104,
     "metadata": {},
     "output_type": "execute_result"
    }
   ],
   "source": [
    "df_olympic_with_ten_sports['Sport'].unique()"
   ]
  },
  {
   "cell_type": "markdown",
   "metadata": {},
   "source": [
    "### Winter Games dataframe and Summer Games dataframe"
   ]
  },
  {
   "cell_type": "code",
   "execution_count": 107,
   "metadata": {},
   "outputs": [],
   "source": [
    "winter_df = olympic_df[olympic_df['Season'] == 'Winter']\n",
    "summer_df = olympic_df[olympic_df['Season'] == 'Summer']"
   ]
  },
  {
   "cell_type": "markdown",
   "metadata": {},
   "source": [
    "### CORRELATION MATRIX"
   ]
  },
  {
   "cell_type": "markdown",
   "metadata": {},
   "source": [
    "**NUMERICAL ENCODING**\n",
    "\n",
    "COLUMNS CAN BE TRANSFORM:\n",
    "- SEX: M/F -> 0/1\n",
    "- MEDAL: NaN, Bronze, Silver, Gold -> 0, 1, 2, 3\n",
    "\n",
    "I can use two methods to encode the labels:\n",
    "1. LabelEncoder from sklearn library\n",
    "2. Doing it by hand\n",
    "\n",
    "As I have just few labels to encode, I prefer to use second method because LabelEncoder assign numbers starting from 0 and so on and in my case is not preferable a generic assignment because of the different priorty/importance of the medal types. Instead for Sex encoding it can be used LabelEncoding but for code clearity I will use one method for all my features that I want to encode."
   ]
  },
  {
   "cell_type": "code",
   "execution_count": 110,
   "metadata": {},
   "outputs": [],
   "source": [
    "replace_sex={\n",
    "    'M':0,\n",
    "    \"F\":1\n",
    "}\n",
    "olympic_df['Sex'] = olympic_df['Sex'].replace(replace_sex)\n",
    "\n",
    "\n",
    "# replace_medal={\n",
    "#     \"Bronze\":1,\n",
    "#     \"Silver\":2,\n",
    "#     \"Gold\":3,\n",
    "#     \"no-medal\":0\n",
    "# }\n",
    "# olympic_df['Medal'] = olympic_df['Medal'].replace(replace_medal)\n",
    "\n",
    "\n",
    "pd.set_option(\"future.no_silent_downcasting\", True)"
   ]
  },
  {
   "cell_type": "markdown",
   "metadata": {},
   "source": [
    "**Prepare data for model and correlation.**\n",
    "\n",
    "Use dummies for medal column to use it for machine learning model.\n",
    "\n",
    "Convert object columns into numerical columns. "
   ]
  },
  {
   "cell_type": "code",
   "execution_count": 115,
   "metadata": {},
   "outputs": [],
   "source": [
    "olympic_df = pd.get_dummies(olympic_df, columns=['Medal'], dtype=int)  #, dummy_na=True"
   ]
  },
  {
   "cell_type": "code",
   "execution_count": null,
   "metadata": {},
   "outputs": [],
   "source": [
    "label_encoder = LabelEncoder()\n",
    "for column in ['Games', 'Season', 'Sport']:\n",
    "    olympic_df[column] = label_encoder.fit_transform(olympic_df[column])"
   ]
  },
  {
   "cell_type": "code",
   "execution_count": 118,
   "metadata": {},
   "outputs": [
    {
     "data": {
      "text/plain": [
       "<AxesSubplot:>"
      ]
     },
     "execution_count": 118,
     "metadata": {},
     "output_type": "execute_result"
    },
    {
     "data": {
      "image/png": "[encoded data removed]",
      "text/plain": [
       "<Figure size 640x480 with 2 Axes>"
      ]
     },
     "metadata": {},
     "output_type": "display_data"
    }
   ],
   "source": [
    "corr_df = olympic_df.drop(columns=['ID', 'Year']).select_dtypes(include=['number'])\n",
    "# corr_df.corr()\n",
    "sns.heatmap(corr_df.corr(), annot=True)"
   ]
  },
  {
   "cell_type": "code",
   "execution_count": 1,
   "metadata": {},
   "outputs": [],
   "source": [
    "# plt.figure(figsize=(13,17))\n",
    "# sns.pairplot(data=olympic_df.drop(columns='ID'))\n",
    "# plt.legend()\n",
    "# plt.show()"
   ]
  },
  {
   "cell_type": "markdown",
   "metadata": {},
   "source": [
    "# MODEL "
   ]
  },
  {
   "cell_type": "markdown",
   "metadata": {},
   "source": [
    "define target columns"
   ]
  },
  {
   "cell_type": "code",
   "execution_count": 121,
   "metadata": {},
   "outputs": [],
   "source": [
    "target_columns = ['Athlete Won Medal']"
   ]
  },
  {
   "cell_type": "markdown",
   "metadata": {},
   "source": [
    "Scale the dataframe"
   ]
  },
  {
   "cell_type": "code",
   "execution_count": 122,
   "metadata": {},
   "outputs": [
    {
     "name": "stdout",
     "output_type": "stream",
     "text": [
      "    ID                      Name  Sex  Age  Height  Weight            Team  \\\n",
      "0 0.00                 A Dijiang 0.00 0.17    0.55    0.29           China   \n",
      "1 0.00                  A Lamusi 0.00 0.16    0.45    0.19           China   \n",
      "2 0.00       Gunnar Nielsen Aaby 0.00 0.17    0.53    0.27         Denmark   \n",
      "3 0.00      Edgar Lindenau Aabye 0.00 0.30    0.54    0.36  Denmark/Sweden   \n",
      "4 0.00  Christine Jacoba Aaftink 1.00 0.13    0.60    0.30     Netherlands   \n",
      "\n",
      "   NOC  Games  Year  Season       City  Sport  \\\n",
      "0  CHN   0.74  0.80    0.00  Barcelona   0.11   \n",
      "1  CHN   0.96  0.97    0.00     London   0.48   \n",
      "2  DEN   0.12  0.20    0.00  Antwerpen   0.36   \n",
      "3  DEN   0.02  0.03    0.00      Paris   0.94   \n",
      "4  NED   0.72  0.77    1.00    Calgary   0.81   \n",
      "\n",
      "                              Event          reg  Athlete Won Medal  \\\n",
      "0       Basketball Men's Basketball        China                  0   \n",
      "1      Judo Men's Extra-Lightweight        China                  0   \n",
      "2           Football Men's Football      Denmark                  0   \n",
      "3       Tug-Of-War Men's Tug-Of-War      Denmark                  1   \n",
      "4  Speed Skating Women's 500 metres  Netherlands                  0   \n",
      "\n",
      "   Medal_Bronze  Medal_Gold  Medal_No medal  Medal_Silver  \n",
      "0          0.00        0.00            1.00          0.00  \n",
      "1          0.00        0.00            1.00          0.00  \n",
      "2          0.00        0.00            1.00          0.00  \n",
      "3          0.00        1.00            0.00          0.00  \n",
      "4          0.00        0.00            1.00          0.00  \n"
     ]
    }
   ],
   "source": [
    "numerical_cols = [col for col in olympic_df.select_dtypes(include=['float64', 'int64']).columns if col not in target_columns]\n",
    "\n",
    "# Initialize the scaler\n",
    "scaler = MinMaxScaler()\n",
    "\n",
    "# Fit and transform the numerical features\n",
    "olympic_df[numerical_cols] = scaler.fit_transform(olympic_df[numerical_cols])\n",
    "\n",
    "# Check the normalized features\n",
    "print(olympic_df.head())"
   ]
  },
  {
   "cell_type": "markdown",
   "metadata": {},
   "source": [
    "## Model Building"
   ]
  },
  {
   "cell_type": "markdown",
   "metadata": {},
   "source": [
    "### Will an athlete win a medal ?"
   ]
  },
  {
   "cell_type": "markdown",
   "metadata": {},
   "source": [
    "We have to drop medal columns (we will predict) and name column (because  we cannot encode it)"
   ]
  },
  {
   "cell_type": "code",
   "execution_count": 123,
   "metadata": {},
   "outputs": [
    {
     "data": {
      "text/plain": [
       "Index(['ID', 'Name', 'Sex', 'Age', 'Height', 'Weight', 'Team', 'NOC', 'Games',\n",
       "       'Year', 'Season', 'City', 'Sport', 'Event', 'reg', 'Athlete Won Medal',\n",
       "       'Medal_Bronze', 'Medal_Gold', 'Medal_No medal', 'Medal_Silver'],\n",
       "      dtype='object')"
      ]
     },
     "execution_count": 123,
     "metadata": {},
     "output_type": "execute_result"
    }
   ],
   "source": [
    "olympic_df.columns"
   ]
  },
  {
   "cell_type": "code",
   "execution_count": 125,
   "metadata": {},
   "outputs": [],
   "source": [
    "# X = features, y = target\n",
    "X = olympic_df.drop(['Name','Athlete Won Medal', 'Medal_Bronze', 'Medal_Gold', 'Medal_Silver', 'Medal_No medal', 'Team', 'NOC', 'reg', 'City', 'Event'], axis=1)\n",
    "y = olympic_df['Athlete Won Medal']"
   ]
  },
  {
   "cell_type": "code",
   "execution_count": 126,
   "metadata": {},
   "outputs": [],
   "source": [
    "def make_prediction(X, y, model):\n",
    "    X_train, X_test, y_train, y_test = train_test_split(X, y, test_size=0.2, random_state=0)\n",
    "    model.fit(X_train, y_train)\n",
    "    predictions = model.predict(X_test)\n",
    "    accuracy = accuracy_score(y_test, predictions)\n",
    "    actual_predicted_values = pd.DataFrame(dict(actual=y_test, prediction=predictions))\n",
    "    # pd.crosstab(index=actual_predicted_values['actual'], columns=actual_predicted_values['prediction'])\n",
    "    precision = metrics.precision_score(y_test, predictions)\n",
    "    print(classification_report(y_test, predictions))\n",
    "    \n",
    "\n",
    "    return actual_predicted_values, accuracy, precision "
   ]
  },
  {
   "cell_type": "code",
   "execution_count": 127,
   "metadata": {},
   "outputs": [
    {
     "name": "stdout",
     "output_type": "stream",
     "text": [
      "              precision    recall  f1-score   support\n",
      "\n",
      "           0       0.88      0.99      0.93     11964\n",
      "           1       0.70      0.15      0.25      1947\n",
      "\n",
      "    accuracy                           0.87     13911\n",
      "   macro avg       0.79      0.57      0.59     13911\n",
      "weighted avg       0.85      0.87      0.83     13911\n",
      "\n"
     ]
    },
    {
     "data": {
      "text/plain": [
       "(       actual  prediction\n",
       " 6712        0           0\n",
       " 13635       0           0\n",
       " 3537        0           0\n",
       " 56545       1           0\n",
       " 4010        0           0\n",
       " ...       ...         ...\n",
       " 31638       0           0\n",
       " 9526        0           0\n",
       " 15277       0           0\n",
       " 25772       0           0\n",
       " 8254        0           0\n",
       " \n",
       " [13911 rows x 2 columns],\n",
       " 0.8721155919775717,\n",
       " 0.6981132075471698)"
      ]
     },
     "execution_count": 127,
     "metadata": {},
     "output_type": "execute_result"
    }
   ],
   "source": [
    "model = RandomForestClassifier(n_estimators=50, min_samples_split=10, random_state=1)\n",
    "make_prediction(X, y, model)"
   ]
  },
  {
   "cell_type": "code",
   "execution_count": 128,
   "metadata": {},
   "outputs": [
    {
     "name": "stdout",
     "output_type": "stream",
     "text": [
      "              precision    recall  f1-score   support\n",
      "\n",
      "           0       0.90      0.94      0.92     11964\n",
      "           1       0.49      0.34      0.40      1947\n",
      "\n",
      "    accuracy                           0.86     13911\n",
      "   macro avg       0.69      0.64      0.66     13911\n",
      "weighted avg       0.84      0.86      0.85     13911\n",
      "\n"
     ]
    },
    {
     "data": {
      "text/plain": [
       "(       actual  prediction\n",
       " 6712        0           0\n",
       " 13635       0           0\n",
       " 3537        0           0\n",
       " 56545       1           0\n",
       " 4010        0           0\n",
       " ...       ...         ...\n",
       " 31638       0           0\n",
       " 9526        0           0\n",
       " 15277       0           0\n",
       " 25772       0           0\n",
       " 8254        0           0\n",
       " \n",
       " [13911 rows x 2 columns],\n",
       " 0.857379052548343,\n",
       " 0.4864864864864865)"
      ]
     },
     "execution_count": 128,
     "metadata": {},
     "output_type": "execute_result"
    }
   ],
   "source": [
    "model = RandomForestClassifier(n_estimators=200, min_samples_split=10, random_state=1, max_depth=250, class_weight='balanced')\n",
    "make_prediction(X, y, model)"
   ]
  },
  {
   "cell_type": "code",
   "execution_count": 129,
   "metadata": {},
   "outputs": [
    {
     "name": "stdout",
     "output_type": "stream",
     "text": [
      "              precision    recall  f1-score   support\n",
      "\n",
      "           0       0.86      1.00      0.92     11964\n",
      "           1       0.00      0.00      0.00      1947\n",
      "\n",
      "    accuracy                           0.86     13911\n",
      "   macro avg       0.43      0.50      0.46     13911\n",
      "weighted avg       0.74      0.86      0.80     13911\n",
      "\n"
     ]
    },
    {
     "data": {
      "text/plain": [
       "(       actual  prediction\n",
       " 6712        0           0\n",
       " 13635       0           0\n",
       " 3537        0           0\n",
       " 56545       1           0\n",
       " 4010        0           0\n",
       " ...       ...         ...\n",
       " 31638       0           0\n",
       " 9526        0           0\n",
       " 15277       0           0\n",
       " 25772       0           0\n",
       " 8254        0           0\n",
       " \n",
       " [13911 rows x 2 columns],\n",
       " 0.8600388182014234,\n",
       " 0.0)"
      ]
     },
     "execution_count": 129,
     "metadata": {},
     "output_type": "execute_result"
    }
   ],
   "source": [
    "\n",
    "model = LogisticRegression()\n",
    "make_prediction(X, y, model)"
   ]
  },
  {
   "cell_type": "code",
   "execution_count": 130,
   "metadata": {},
   "outputs": [
    {
     "name": "stdout",
     "output_type": "stream",
     "text": [
      "              precision    recall  f1-score   support\n",
      "\n",
      "           0       0.87      0.99      0.93     11964\n",
      "           1       0.64      0.11      0.19      1947\n",
      "\n",
      "    accuracy                           0.87     13911\n",
      "   macro avg       0.76      0.55      0.56     13911\n",
      "weighted avg       0.84      0.87      0.82     13911\n",
      "\n"
     ]
    },
    {
     "data": {
      "text/plain": [
       "(       actual  prediction\n",
       " 6712        0           0\n",
       " 13635       0           0\n",
       " 3537        0           0\n",
       " 56545       1           0\n",
       " 4010        0           0\n",
       " ...       ...         ...\n",
       " 31638       0           0\n",
       " 9526        0           0\n",
       " 15277       0           0\n",
       " 25772       0           0\n",
       " 8254        0           0\n",
       " \n",
       " [13911 rows x 2 columns],\n",
       " 0.8669398317877939,\n",
       " 0.6411764705882353)"
      ]
     },
     "execution_count": 130,
     "metadata": {},
     "output_type": "execute_result"
    }
   ],
   "source": [
    "model=XGBClassifier(use_label_encoder=False, eval_metric='mlogloss')\n",
    "make_prediction(X, y, model)"
   ]
  },
  {
   "cell_type": "markdown",
   "metadata": {},
   "source": [
    "# CONCLUSION"
   ]
  },
  {
   "cell_type": "code",
   "execution_count": null,
   "metadata": {},
   "outputs": [],
   "source": []
  }
 ],
 "metadata": {
  "kernelspec": {
   "display_name": "Python 3",
   "language": "python",
   "name": "python3"
  },
  "language_info": {
   "codemirror_mode": {
    "name": "ipython",
    "version": 3
   },
   "file_extension": ".py",
   "mimetype": "text/x-python",
   "name": "python",
   "nbconvert_exporter": "python",
   "pygments_lexer": "ipython3",
   "version": "3.10.12"
  }
 },
 "nbformat": 4,
 "nbformat_minor": 2
}
